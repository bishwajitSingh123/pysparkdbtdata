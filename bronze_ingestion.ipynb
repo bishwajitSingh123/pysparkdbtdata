{
 "cells": [
  {
   "cell_type": "code",
   "execution_count": 0,
   "metadata": {
    "application/vnd.databricks.v1+cell": {
     "cellMetadata": {
      "byteLimit": 2048000,
      "rowLimit": 10000
     },
     "inputWidgets": {},
     "nuid": "1959599c-ab19-46b5-bcc9-14d6e6c9b400",
     "showTitle": false,
     "tableResultSettingsMap": {},
     "title": ""
    }
   },
   "outputs": [],
   "source": [
    "df = spark.read.format(\"csv\")\\\n",
    "    .option(\"header\",True)\\\n",
    "        .option(\"inferSchema\",True)\\\n",
    "            .load(\"/Volumes/pysparkdbt/source/source_data/customers/\")"
   ]
  },
  {
   "cell_type": "code",
   "execution_count": 0,
   "metadata": {
    "application/vnd.databricks.v1+cell": {
     "cellMetadata": {
      "byteLimit": 2048000,
      "rowLimit": 10000
     },
     "collapsed": true,
     "inputWidgets": {},
     "nuid": "7a71162e-1806-4770-baaf-629a951fc10d",
     "showTitle": false,
     "tableResultSettingsMap": {},
     "title": ""
    }
   },
   "outputs": [
    {
     "output_type": "display_data",
     "data": {
      "text/html": [
       "<style scoped>\n",
       "  .table-result-container {\n",
       "    max-height: 300px;\n",
       "    overflow: auto;\n",
       "  }\n",
       "  table, th, td {\n",
       "    border: 1px solid black;\n",
       "    border-collapse: collapse;\n",
       "  }\n",
       "  th, td {\n",
       "    padding: 5px;\n",
       "  }\n",
       "  th {\n",
       "    text-align: left;\n",
       "  }\n",
       "</style><div class='table-result-container'><table class='table-result'><thead style='background-color: white'><tr><th>customer_id</th><th>first_name</th><th>last_name</th><th>email</th><th>phone_number</th><th>city</th><th>signup_date</th><th>last_updated_timestamp</th></tr></thead><tbody><tr><td>1</td><td>Daniel</td><td>Reed</td><td>azimmerman@ramirez-nelson.com</td><td>811-724-1080</td><td>Tiffanyview</td><td>2023-12-25</td><td>2025-09-15T15:21:05.000Z</td></tr><tr><td>2</td><td>Jonathan</td><td>Hansen</td><td>williammiller@serrano-jones.com</td><td>632-190-4027x0198</td><td>Baldwinburgh</td><td>2021-01-23</td><td>2025-09-19T20:19:41.000Z</td></tr><tr><td>3</td><td>Samuel</td><td>Rodriguez</td><td>troy07@carrillo-webb.info</td><td>676.094.0716</td><td>New Ashley</td><td>2025-05-31</td><td>2025-09-13T03:45:53.000Z</td></tr><tr><td>4</td><td>Victor</td><td>Sanchez</td><td>jonthompson@thomas.biz</td><td>960-929-2694</td><td>Stephanieton</td><td>2024-08-31</td><td>2025-08-23T00:38:03.000Z</td></tr><tr><td>5</td><td>Sabrina</td><td>Black</td><td>patricknewman@williams.biz</td><td>+1-621-699-9458x79470</td><td>South Christopherport</td><td>2023-05-18</td><td>2025-08-20T16:08:38.000Z</td></tr><tr><td>6</td><td>Melissa</td><td>Blair</td><td>courtney29@gmail.com</td><td>(332)469-2812x91807</td><td>East Pamela</td><td>2025-09-17</td><td>2025-08-24T09:44:20.000Z</td></tr><tr><td>7</td><td>Jacqueline</td><td>Williams</td><td>robertmoore@gmail.com</td><td>7312603248</td><td>Fritzmouth</td><td>2023-05-29</td><td>2025-08-28T19:40:31.000Z</td></tr><tr><td>8</td><td>Christina</td><td>Arnold</td><td>parkerbridget@yahoo.com</td><td>(878)682-1357</td><td>North Sarah</td><td>2023-09-21</td><td>2025-09-06T20:36:02.000Z</td></tr><tr><td>9</td><td>Lisa</td><td>Shelton</td><td>cody49@johnson.org</td><td>9349468560</td><td>South Kyleview</td><td>2022-12-13</td><td>2025-09-08T14:57:58.000Z</td></tr><tr><td>10</td><td>Megan</td><td>Dean</td><td>vritter@yahoo.com</td><td>001-967-061-8100x482</td><td>Port Jesse</td><td>2023-03-12</td><td>2025-09-07T23:05:32.000Z</td></tr><tr><td>11</td><td>Barbara</td><td>Anderson</td><td>kristen04@hotmail.com</td><td>392.066.9676x001</td><td>South Stephanieberg</td><td>2022-04-28</td><td>2025-09-07T03:15:02.000Z</td></tr><tr><td>12</td><td>Laura</td><td>Roman</td><td>wilsonlaura@lewis.com</td><td>+1-648-097-6914x62270</td><td>Andrewton</td><td>2023-11-10</td><td>2025-09-01T23:32:42.000Z</td></tr><tr><td>13</td><td>Melissa</td><td>Knight</td><td>tabitha21@ferguson.com</td><td>619-904-4971x465</td><td>Lake Amandaview</td><td>2025-09-05</td><td>2025-09-10T17:37:27.000Z</td></tr><tr><td>14</td><td>Patricia</td><td>Little</td><td>middletonjennifer@yahoo.com</td><td>(464)974-5556</td><td>North Amymouth</td><td>2022-03-31</td><td>2025-09-14T06:35:22.000Z</td></tr><tr><td>15</td><td>Martin</td><td>Roberts</td><td>fallen@li.net</td><td>138.024.5765x7072</td><td>Timothyview</td><td>2024-11-16</td><td>2025-08-31T01:01:56.000Z</td></tr><tr><td>16</td><td>David</td><td>Mcbride</td><td>caitlin10@allen-sullivan.info</td><td>+1-849-307-9208x527</td><td>East Kimberg</td><td>2023-10-14</td><td>2025-08-25T23:20:01.000Z</td></tr><tr><td>17</td><td>Ian</td><td>Rodriguez</td><td>jason56@tucker-anderson.net</td><td>(014)014-9166</td><td>New Tara</td><td>2024-05-15</td><td>2025-09-07T13:43:20.000Z</td></tr><tr><td>18</td><td>Catherine</td><td>Wade</td><td>kgibson@smith-wright.com</td><td>(542)408-0642x68171</td><td>Roseland</td><td>2024-09-28</td><td>2025-08-20T14:11:27.000Z</td></tr><tr><td>19</td><td>Alexander</td><td>Williams</td><td>kevinporter@waters.info</td><td>544.416.0143x02242</td><td>Lawrencebury</td><td>2021-03-14</td><td>2025-08-20T20:55:48.000Z</td></tr><tr><td>20</td><td>Natalie</td><td>Ramos</td><td>ssmith@wood.info</td><td>915-451-0188x769</td><td>Catherinehaven</td><td>2020-12-12</td><td>2025-09-09T10:07:45.000Z</td></tr><tr><td>21</td><td>Breanna</td><td>Roberts</td><td>derekmills@yahoo.com</td><td>001-155-923-3977</td><td>Christopherport</td><td>2020-10-24</td><td>2025-09-03T10:49:39.000Z</td></tr><tr><td>22</td><td>Angela</td><td>Mayer</td><td>xbarnes@hotmail.com</td><td>301.179.9757x831</td><td>New Michaelbury</td><td>2024-04-05</td><td>2025-09-10T18:01:00.000Z</td></tr><tr><td>23</td><td>Christina</td><td>Fowler</td><td>sandersmark@hotmail.com</td><td>001-744-059-9633x776</td><td>Katrinatown</td><td>2022-08-20</td><td>2025-09-18T06:35:43.000Z</td></tr><tr><td>24</td><td>Jeffrey</td><td>Casey</td><td>kenneth21@schmitt.com</td><td>(784)645-5042x866</td><td>Ibarraport</td><td>2021-05-06</td><td>2025-08-22T20:21:27.000Z</td></tr><tr><td>25</td><td>Darlene</td><td>Murray</td><td>smithdana@mccarthy.org</td><td>3298224429</td><td>Smithfort</td><td>2024-07-15</td><td>2025-09-15T13:19:49.000Z</td></tr><tr><td>26</td><td>Austin</td><td>Johnson</td><td>davidbennett@gmail.com</td><td>657-690-8701x263</td><td>Nealton</td><td>2024-12-02</td><td>2025-09-10T14:54:36.000Z</td></tr><tr><td>27</td><td>Michelle</td><td>Golden</td><td>calvinhernandez@kelly-brown.com</td><td>6042816636</td><td>North Zacharyton</td><td>2024-09-18</td><td>2025-09-20T05:47:16.000Z</td></tr><tr><td>28</td><td>Joseph</td><td>Ross</td><td>bcollins@baker-smith.com</td><td>(657)795-6357x399</td><td>Lake Jeremy</td><td>2021-08-14</td><td>2025-08-22T09:10:27.000Z</td></tr><tr><td>29</td><td>Jacqueline</td><td>Perez</td><td>christian27@yahoo.com</td><td>001-830-447-2407x853</td><td>Edwardsland</td><td>2025-08-13</td><td>2025-09-03T22:14:29.000Z</td></tr><tr><td>30</td><td>Nicholas</td><td>Hill</td><td>david01@case-welch.com</td><td>(703)398-7705x8124</td><td>Port Jaclynborough</td><td>2022-04-20</td><td>2025-08-29T03:18:27.000Z</td></tr><tr><td>31</td><td>Tami</td><td>Dickerson</td><td>dukemichael@hotmail.com</td><td>001-443-990-0748x713</td><td>Camachotown</td><td>2023-05-11</td><td>2025-09-18T15:08:19.000Z</td></tr><tr><td>32</td><td>Claudia</td><td>Johnson</td><td>elliottstephanie@hayden.net</td><td>001-816-438-0045x12489</td><td>Ramosbury</td><td>2021-01-26</td><td>2025-08-31T19:41:05.000Z</td></tr><tr><td>33</td><td>Andrew</td><td>Smith</td><td>yvalentine@hotmail.com</td><td>1921706047</td><td>Port Elizabeth</td><td>2023-08-18</td><td>2025-09-10T15:56:22.000Z</td></tr><tr><td>34</td><td>Chad</td><td>Howell</td><td>lisa13@gibson.org</td><td>669.452.2228</td><td>Rebeccaport</td><td>2023-10-30</td><td>2025-09-06T18:32:57.000Z</td></tr><tr><td>35</td><td>Christopher</td><td>Rowe</td><td>donna39@williams.net</td><td>843.006.6369</td><td>Wongburgh</td><td>2021-08-17</td><td>2025-09-10T08:32:49.000Z</td></tr><tr><td>36</td><td>Eric</td><td>Moran</td><td>morsejames@cooper.info</td><td>041.420.9573x7103</td><td>East Gregory</td><td>2024-05-08</td><td>2025-09-11T20:52:14.000Z</td></tr><tr><td>37</td><td>Steven</td><td>Johnson</td><td>joshuasimmons@horne.com</td><td>001-833-144-8169x308</td><td>East Kelseyhaven</td><td>2024-08-04</td><td>2025-09-06T09:28:47.000Z</td></tr><tr><td>38</td><td>Alison</td><td>Ellis</td><td>melissa16@gmail.com</td><td>001-282-485-8290x7022</td><td>East Cynthiabury</td><td>2023-02-21</td><td>2025-09-19T00:37:01.000Z</td></tr><tr><td>39</td><td>Nathan</td><td>Zimmerman</td><td>clarkcourtney@hotmail.com</td><td>+1-089-449-1703x310</td><td>Shariborough</td><td>2021-11-20</td><td>2025-09-20T08:43:37.000Z</td></tr><tr><td>40</td><td>Haley</td><td>Ewing</td><td>courtneymaynard@gmail.com</td><td>+1-973-783-4122x32960</td><td>Jameston</td><td>2024-06-02</td><td>2025-09-16T08:28:31.000Z</td></tr><tr><td>41</td><td>Zachary</td><td>Horton</td><td>cglass@gmail.com</td><td>+1-978-026-0476x5484</td><td>Zimmermanstad</td><td>2024-02-18</td><td>2025-09-14T04:03:13.000Z</td></tr><tr><td>42</td><td>Justin</td><td>Flowers</td><td>tiffanydavis@yahoo.com</td><td>001-606-054-3917x611</td><td>Michaelview</td><td>2022-07-31</td><td>2025-08-26T17:43:14.000Z</td></tr><tr><td>43</td><td>Meghan</td><td>Ibarra</td><td>jason48@hotmail.com</td><td>979.247.3612</td><td>Jessestad</td><td>2023-09-28</td><td>2025-09-05T15:12:32.000Z</td></tr><tr><td>44</td><td>Joshua</td><td>Brown</td><td>jonesmichael@may-nash.info</td><td>253.796.2825</td><td>Julieton</td><td>2021-11-21</td><td>2025-09-07T05:05:06.000Z</td></tr><tr><td>45</td><td>Kathryn</td><td>Barr</td><td>alicia67@yahoo.com</td><td>158-790-0026x3166</td><td>Lake Donaldburgh</td><td>2024-02-04</td><td>2025-09-05T12:40:03.000Z</td></tr><tr><td>46</td><td>Ashley</td><td>Weaver</td><td>vpierce@yahoo.com</td><td>(170)960-6080x1993</td><td>Port Robert</td><td>2025-04-19</td><td>2025-08-23T09:33:12.000Z</td></tr><tr><td>47</td><td>Taylor</td><td>Hayes</td><td>erika01@thomas.com</td><td>(340)202-3990</td><td>Smithfort</td><td>2022-08-13</td><td>2025-08-31T00:14:56.000Z</td></tr><tr><td>48</td><td>Ashley</td><td>Meyer</td><td>qwelch@hotmail.com</td><td>(831)281-8661</td><td>Donfurt</td><td>2024-01-25</td><td>2025-08-25T13:34:33.000Z</td></tr><tr><td>49</td><td>James</td><td>Reed</td><td>donnadecker@hotmail.com</td><td>+1-684-852-1184</td><td>Laurastad</td><td>2022-10-15</td><td>2025-08-22T15:13:32.000Z</td></tr><tr><td>50</td><td>Alan</td><td>Martin</td><td>adam97@hotmail.com</td><td>+1-216-282-6005</td><td>Port Ashleyburgh</td><td>2023-07-05</td><td>2025-08-28T08:39:55.000Z</td></tr><tr><td>51</td><td>Michele</td><td>Anderson</td><td>victoria03@burns.com</td><td>4667587033</td><td>Nicholaston</td><td>2024-08-22</td><td>2025-08-20T14:34:30.000Z</td></tr><tr><td>52</td><td>Jason</td><td>Ortiz</td><td>joshua55@duncan.info</td><td>001-692-483-1585x81661</td><td>North Joshuaville</td><td>2025-08-19</td><td>2025-09-01T02:57:34.000Z</td></tr><tr><td>53</td><td>Victor</td><td>Davis</td><td>qhamilton@yahoo.com</td><td>(230)739-5814x21724</td><td>Baileyberg</td><td>2021-12-10</td><td>2025-09-13T16:23:20.000Z</td></tr><tr><td>54</td><td>Phillip</td><td>Miller</td><td>aprilesparza@hotmail.com</td><td>0250282605</td><td>North Henryland</td><td>2025-06-11</td><td>2025-08-29T16:00:47.000Z</td></tr><tr><td>55</td><td>Joseph</td><td>Mccarthy</td><td>ellencooper@yahoo.com</td><td>(489)036-9853x187</td><td>West Emilytown</td><td>2022-10-24</td><td>2025-09-18T03:36:23.000Z</td></tr><tr><td>56</td><td>William</td><td>Freeman</td><td>tina28@yahoo.com</td><td>(347)773-1763x0130</td><td>West Steventown</td><td>2025-07-08</td><td>2025-08-21T20:59:09.000Z</td></tr><tr><td>57</td><td>Andrew</td><td>Butler</td><td>martinezmelanie@gmail.com</td><td>1587940682</td><td>Port Haileymouth</td><td>2024-11-07</td><td>2025-08-23T15:24:01.000Z</td></tr><tr><td>58</td><td>Margaret</td><td>Lewis</td><td>bwright@hunt-frey.org</td><td>944.187.6739x14634</td><td>Kellyport</td><td>2021-09-17</td><td>2025-08-31T17:58:31.000Z</td></tr><tr><td>59</td><td>Pamela</td><td>Rush</td><td>mitchellalan@martinez.info</td><td>001-975-383-8080x642</td><td>Conleyfort</td><td>2021-02-18</td><td>2025-08-31T00:23:51.000Z</td></tr><tr><td>60</td><td>Nicholas</td><td>Williams</td><td>sean09@hotmail.com</td><td>001-913-875-2234x36321</td><td>North Jonathan</td><td>2024-08-07</td><td>2025-08-23T11:54:18.000Z</td></tr><tr><td>61</td><td>Jeffery</td><td>Nguyen</td><td>jameswebster@hotmail.com</td><td>+1-504-492-2970x2927</td><td>Jennifershire</td><td>2020-12-31</td><td>2025-09-02T04:32:20.000Z</td></tr><tr><td>62</td><td>Tara</td><td>Roberts</td><td>michaelsharp@graves.net</td><td>969.274.9240</td><td>Loganside</td><td>2021-02-23</td><td>2025-09-03T02:57:01.000Z</td></tr><tr><td>63</td><td>Vanessa</td><td>Alvarez</td><td>jthomas@lam.com</td><td>+1-262-377-1370x0643</td><td>Mckenziefurt</td><td>2021-05-20</td><td>2025-08-27T09:23:10.000Z</td></tr><tr><td>64</td><td>Caitlyn</td><td>Rose</td><td>barbermichael@sellers.biz</td><td>847-256-4033x505</td><td>Port Laura</td><td>2024-10-30</td><td>2025-08-21T21:52:52.000Z</td></tr><tr><td>65</td><td>Jennifer</td><td>Williams</td><td>darrellsingh@hernandez.com</td><td>609.998.2380x007</td><td>Lake Anthonymouth</td><td>2023-10-05</td><td>2025-09-12T04:41:42.000Z</td></tr><tr><td>66</td><td>Tiffany</td><td>Smith</td><td>armstrongjoy@yahoo.com</td><td>324-782-7838x9007</td><td>East James</td><td>2024-01-08</td><td>2025-09-13T14:49:06.000Z</td></tr><tr><td>67</td><td>Jennifer</td><td>Klein</td><td>rharrison@gmail.com</td><td>001-588-531-3755</td><td>Browningland</td><td>2021-05-05</td><td>2025-08-28T23:30:51.000Z</td></tr><tr><td>68</td><td>Marissa</td><td>Ramsey</td><td>susanlittle@taylor-richards.biz</td><td>8251941793</td><td>Lake Dannyshire</td><td>2021-11-15</td><td>2025-09-06T00:14:17.000Z</td></tr><tr><td>69</td><td>Brett</td><td>Mcdaniel</td><td>lonnie81@wheeler-ferrell.com</td><td>6409684040</td><td>Lake Katherine</td><td>2024-04-18</td><td>2025-08-28T20:45:27.000Z</td></tr><tr><td>70</td><td>Richard</td><td>Knox</td><td>donna07@jones.com</td><td>552.245.0080x14131</td><td>South Jimmy</td><td>2022-01-24</td><td>2025-09-04T19:17:45.000Z</td></tr><tr><td>71</td><td>Matthew</td><td>Burton</td><td>genglish@yahoo.com</td><td>884-076-7802x316</td><td>Vangfort</td><td>2023-08-01</td><td>2025-08-29T20:46:52.000Z</td></tr><tr><td>72</td><td>Alyssa</td><td>Butler</td><td>nguyenjorge@hotmail.com</td><td>909-386-6377x9502</td><td>East Davidfort</td><td>2021-03-15</td><td>2025-09-13T20:37:42.000Z</td></tr><tr><td>73</td><td>Cassandra</td><td>Smith</td><td>ronalddecker@hotmail.com</td><td>686-491-6093x45649</td><td>Reynoldsstad</td><td>2024-04-06</td><td>2025-09-03T08:53:32.000Z</td></tr><tr><td>74</td><td>Francisco</td><td>Mason</td><td>halejeremy@jackson.biz</td><td>708-737-9907</td><td>East Adam</td><td>2024-05-13</td><td>2025-09-12T16:05:35.000Z</td></tr><tr><td>75</td><td>Albert</td><td>Cooper</td><td>jillflores@parrish.net</td><td>743-649-3140x62019</td><td>West Crystal</td><td>2022-07-02</td><td>2025-09-02T01:35:51.000Z</td></tr><tr><td>76</td><td>Diamond</td><td>Craig</td><td>lrobinson@gmail.com</td><td>(712)521-1933x252</td><td>South Elijah</td><td>2022-01-04</td><td>2025-09-19T08:31:22.000Z</td></tr><tr><td>77</td><td>Kathleen</td><td>Dorsey</td><td>melanie89@yahoo.com</td><td>+1-598-394-3922x670</td><td>Port Amy</td><td>2024-03-22</td><td>2025-09-12T02:34:34.000Z</td></tr><tr><td>78</td><td>Joshua</td><td>Perkins</td><td>brucekristina@hotmail.com</td><td>(162)365-9634x36052</td><td>New Andrea</td><td>2024-02-12</td><td>2025-08-21T23:47:19.000Z</td></tr><tr><td>79</td><td>Pamela</td><td>Gardner</td><td>sara21@gmail.com</td><td>106.350.8085</td><td>Carpenterville</td><td>2024-05-26</td><td>2025-09-17T01:15:54.000Z</td></tr><tr><td>80</td><td>Toni</td><td>Morris</td><td>butlerkristen@hotmail.com</td><td>001-220-421-4251x3568</td><td>North William</td><td>2022-09-25</td><td>2025-09-01T13:28:35.000Z</td></tr><tr><td>81</td><td>Wendy</td><td>Reynolds</td><td>nicholewebb@owens.com</td><td>903.429.4291</td><td>Grayland</td><td>2024-03-26</td><td>2025-09-07T01:05:57.000Z</td></tr><tr><td>82</td><td>Sabrina</td><td>Mason</td><td>davisemily@gmail.com</td><td>+1-108-684-2976</td><td>North Joshua</td><td>2023-07-28</td><td>2025-09-14T01:04:59.000Z</td></tr><tr><td>83</td><td>Jodi</td><td>Miller</td><td>sarah79@yahoo.com</td><td>(180)906-3833</td><td>New John</td><td>2024-07-24</td><td>2025-09-04T00:31:21.000Z</td></tr><tr><td>84</td><td>James</td><td>Robinson</td><td>ahines@holmes.com</td><td>+1-317-861-5583</td><td>Lake Maria</td><td>2025-04-30</td><td>2025-09-12T21:34:57.000Z</td></tr><tr><td>85</td><td>Michelle</td><td>Schmidt</td><td>nicholas32@lopez.com</td><td>(696)214-0776x38995</td><td>New Jessechester</td><td>2021-08-11</td><td>2025-08-20T13:01:40.000Z</td></tr><tr><td>86</td><td>Tara</td><td>Cruz</td><td>robinsonbrenda@yahoo.com</td><td>611.557.7248x74013</td><td>Jillstad</td><td>2022-10-09</td><td>2025-09-11T21:26:05.000Z</td></tr><tr><td>87</td><td>Joshua</td><td>Morris</td><td>vestrada@weaver.com</td><td>(792)508-2695x693</td><td>Lake John</td><td>2021-09-04</td><td>2025-09-18T22:35:48.000Z</td></tr><tr><td>88</td><td>Julie</td><td>Arnold</td><td>amandasmith@reid-rasmussen.com</td><td>001-982-149-2967x2205</td><td>South Dawn</td><td>2020-12-20</td><td>2025-08-31T10:09:07.000Z</td></tr><tr><td>89</td><td>Evan</td><td>Wagner</td><td>jaredwells@greer-jones.net</td><td>(472)882-7884</td><td>Andersenbury</td><td>2023-05-14</td><td>2025-09-01T03:21:20.000Z</td></tr><tr><td>90</td><td>James</td><td>Washington</td><td>mavila@hotmail.com</td><td>6664662178</td><td>Elizabethchester</td><td>2023-06-02</td><td>2025-09-02T14:34:05.000Z</td></tr><tr><td>91</td><td>Eric</td><td>Baker</td><td>rthompson@gmail.com</td><td>662.385.4431</td><td>Amberville</td><td>2023-01-01</td><td>2025-09-01T08:25:46.000Z</td></tr><tr><td>92</td><td>Susan</td><td>Bentley</td><td>mistynguyen@yahoo.com</td><td>001-556-651-2524x1842</td><td>Haysmouth</td><td>2020-12-10</td><td>2025-09-12T12:24:03.000Z</td></tr><tr><td>93</td><td>Ian</td><td>Nelson</td><td>nancy69@yahoo.com</td><td>753.981.7532x7266</td><td>Marieberg</td><td>2021-06-18</td><td>2025-09-19T09:12:23.000Z</td></tr><tr><td>94</td><td>Donna</td><td>Williams</td><td>kimberly86@diaz-miller.info</td><td>140.365.6932x6722</td><td>Jonesburgh</td><td>2020-12-16</td><td>2025-09-01T21:41:58.000Z</td></tr><tr><td>95</td><td>Julie</td><td>Powers</td><td>zortega@hotmail.com</td><td>871.248.5100x0394</td><td>North Laurenton</td><td>2022-06-21</td><td>2025-08-24T05:15:53.000Z</td></tr><tr><td>96</td><td>Jennifer</td><td>Jones</td><td>qmartinez@johnson-hood.com</td><td>(781)829-4921x71170</td><td>Foxtown</td><td>2024-04-06</td><td>2025-09-20T04:39:00.000Z</td></tr><tr><td>97</td><td>Jasmine</td><td>Adams</td><td>derrickwhite@mcmillan-torres.com</td><td>426.017.7162x360</td><td>Port Danielview</td><td>2022-11-28</td><td>2025-09-19T16:18:39.000Z</td></tr><tr><td>98</td><td>Maria</td><td>Davidson</td><td>thomastucker@torres.info</td><td>001-793-838-1697x324</td><td>Brittanyhaven</td><td>2023-08-23</td><td>2025-09-16T12:06:17.000Z</td></tr><tr><td>99</td><td>Joseph</td><td>Turner</td><td>schwartzmichael@hotmail.com</td><td>001-211-239-3709x94909</td><td>New Joseph</td><td>2021-06-08</td><td>2025-08-29T18:16:56.000Z</td></tr><tr><td>100</td><td>Gary</td><td>Barnes</td><td>newmanmelanie@flynn-ross.org</td><td>001-057-530-2069</td><td>North Charlestown</td><td>2022-06-22</td><td>2025-09-14T22:47:28.000Z</td></tr><tr><td>101</td><td>Stacy</td><td>Thomas</td><td>hannahwhite@hotmail.com</td><td>(888)234-0212x190</td><td>Lisachester</td><td>2020-09-24</td><td>2025-09-10T22:45:30.000Z</td></tr><tr><td>102</td><td>Alan</td><td>Rogers</td><td>cunninghamjessica@yahoo.com</td><td>001-059-131-5078</td><td>Harrisbury</td><td>2023-07-29</td><td>2025-09-19T21:57:29.000Z</td></tr><tr><td>103</td><td>Stephen</td><td>Sanders</td><td>sherry55@hernandez.com</td><td>(125)864-6551x2757</td><td>Port Michael</td><td>2022-06-18</td><td>2025-09-09T06:06:57.000Z</td></tr><tr><td>104</td><td>Duane</td><td>Bennett</td><td>moralessandy@arnold-robinson.com</td><td>001-863-426-7566x120</td><td>Lake Kelly</td><td>2020-11-07</td><td>2025-09-17T02:22:22.000Z</td></tr><tr><td>105</td><td>Jasmin</td><td>Patterson</td><td>matthewsbenjamin@lloyd.com</td><td>877.103.6696x5279</td><td>South Wyattfort</td><td>2021-04-11</td><td>2025-08-25T11:18:42.000Z</td></tr><tr><td>106</td><td>Kara</td><td>Williams</td><td>tyleryoung@gross.org</td><td>411.271.6645x2578</td><td>Seanview</td><td>2024-01-05</td><td>2025-08-25T04:33:25.000Z</td></tr><tr><td>107</td><td>Martin</td><td>Williams</td><td>brandyphillips@hotmail.com</td><td>+1-789-162-5036</td><td>Melissabury</td><td>2021-06-15</td><td>2025-09-14T13:56:22.000Z</td></tr><tr><td>108</td><td>Julian</td><td>Bell</td><td>yodonnell@gmail.com</td><td>679.256.6118</td><td>Port Brandon</td><td>2024-10-18</td><td>2025-09-16T17:58:10.000Z</td></tr><tr><td>109</td><td>Sharon</td><td>Reed</td><td>zweaver@hotmail.com</td><td>001-838-712-2136</td><td>Jacquelineside</td><td>2021-05-11</td><td>2025-09-01T22:46:52.000Z</td></tr><tr><td>110</td><td>Christine</td><td>Smith</td><td>qevans@hotmail.com</td><td>047.526.3467x475</td><td>New Susan</td><td>2022-06-22</td><td>2025-09-19T09:00:30.000Z</td></tr><tr><td>111</td><td>Joseph</td><td>Hampton</td><td>thomas64@yahoo.com</td><td>593-796-3021x8361</td><td>New James</td><td>2025-07-08</td><td>2025-08-26T05:04:41.000Z</td></tr><tr><td>112</td><td>Joshua</td><td>Peterson</td><td>brandontanner@maldonado-brown.com</td><td>(108)891-1686</td><td>North Martinfort</td><td>2022-03-27</td><td>2025-09-11T17:51:51.000Z</td></tr><tr><td>113</td><td>Kari</td><td>Bond</td><td>amy19@hotmail.com</td><td>546-921-8087x99627</td><td>North Brittanyshire</td><td>2022-12-04</td><td>2025-09-08T04:59:57.000Z</td></tr><tr><td>114</td><td>Melissa</td><td>Johnson</td><td>stewartkevin@reed.com</td><td>001-225-555-5198x82023</td><td>Port Amandabury</td><td>2025-03-29</td><td>2025-08-31T20:03:20.000Z</td></tr><tr><td>115</td><td>Thomas</td><td>Elliott</td><td>hornronald@hall-gutierrez.com</td><td>767.288.1452x34310</td><td>Gavinfort</td><td>2025-01-12</td><td>2025-09-02T02:33:28.000Z</td></tr><tr><td>116</td><td>Jennifer</td><td>Grimes</td><td>parrishrichard@yahoo.com</td><td>(450)543-5605</td><td>Huntborough</td><td>2023-02-03</td><td>2025-09-02T22:29:59.000Z</td></tr><tr><td>117</td><td>Christopher</td><td>Jones</td><td>madison07@mendoza.com</td><td>(526)195-4761</td><td>West Andrew</td><td>2024-10-07</td><td>2025-09-01T21:01:28.000Z</td></tr><tr><td>118</td><td>Joshua</td><td>Sutton</td><td>mosstroy@gmail.com</td><td>091.543.6994x2249</td><td>Payneshire</td><td>2024-04-26</td><td>2025-08-27T23:32:46.000Z</td></tr><tr><td>119</td><td>Joshua</td><td>Bailey</td><td>michaelthornton@raymond-clarke.com</td><td>8685503172</td><td>East Tonyshire</td><td>2021-10-30</td><td>2025-08-29T06:52:55.000Z</td></tr><tr><td>120</td><td>Daniel</td><td>Coleman</td><td>millertammy@howard-johnson.info</td><td>966.398.9624x869</td><td>South Jessicaville</td><td>2020-12-10</td><td>2025-09-01T04:47:14.000Z</td></tr><tr><td>121</td><td>Richard</td><td>Thompson</td><td>norma62@luna.com</td><td>001-017-185-8293x666</td><td>South Jamestown</td><td>2021-12-30</td><td>2025-09-13T18:50:00.000Z</td></tr><tr><td>122</td><td>Elizabeth</td><td>Jones</td><td>williamhicks@hotmail.com</td><td>(387)189-6972x098</td><td>Zacharyfort</td><td>2021-05-03</td><td>2025-09-18T19:10:02.000Z</td></tr><tr><td>123</td><td>Austin</td><td>Tran</td><td>john12@gmail.com</td><td>001-625-213-8255x80186</td><td>Christinaburgh</td><td>2022-09-02</td><td>2025-09-13T16:41:24.000Z</td></tr><tr><td>124</td><td>Nathan</td><td>Huang</td><td>gravessean@yahoo.com</td><td>817-097-1845x938</td><td>Ferrellshire</td><td>2024-10-20</td><td>2025-08-22T07:47:50.000Z</td></tr><tr><td>125</td><td>Eugene</td><td>Frazier</td><td>payneaaron@gray.com</td><td>630-294-8304</td><td>New Phillipfort</td><td>2024-01-19</td><td>2025-09-03T02:43:20.000Z</td></tr><tr><td>126</td><td>Richard</td><td>Rosales</td><td>mark91@hotmail.com</td><td>(369)998-2807</td><td>Brandiport</td><td>2025-07-11</td><td>2025-09-18T05:48:52.000Z</td></tr><tr><td>127</td><td>Sylvia</td><td>Padilla</td><td>elizabethphillips@yahoo.com</td><td>091-130-3917</td><td>West Jonathan</td><td>2021-03-07</td><td>2025-08-23T03:08:27.000Z</td></tr><tr><td>128</td><td>Sandra</td><td>Cooke</td><td>kelly93@yahoo.com</td><td>417-958-6160x375</td><td>Reyesbury</td><td>2023-11-28</td><td>2025-08-27T10:20:42.000Z</td></tr><tr><td>129</td><td>Carrie</td><td>Russell</td><td>jgordon@coleman.com</td><td>(435)787-3939x3729</td><td>East Suzanneborough</td><td>2020-12-24</td><td>2025-09-17T05:52:53.000Z</td></tr><tr><td>130</td><td>Elizabeth</td><td>Cruz</td><td>michaelberry@gmail.com</td><td>287.225.2759x9497</td><td>Moonland</td><td>2023-12-19</td><td>2025-08-29T20:39:02.000Z</td></tr><tr><td>131</td><td>Cynthia</td><td>Campbell</td><td>brookejohnson@smith.info</td><td>001-371-400-6463x5506</td><td>Williamsberg</td><td>2022-02-12</td><td>2025-08-29T18:32:39.000Z</td></tr><tr><td>132</td><td>Joseph</td><td>Lewis</td><td>williamalvarez@gonzales.net</td><td>(563)556-2417x8174</td><td>South Wayneland</td><td>2022-03-02</td><td>2025-08-22T09:41:07.000Z</td></tr><tr><td>133</td><td>Sarah</td><td>Romero</td><td>davidcampos@burgess-smith.com</td><td>276-041-0141x32483</td><td>Nelsonville</td><td>2025-03-02</td><td>2025-08-22T12:22:13.000Z</td></tr><tr><td>134</td><td>Kelsey</td><td>Wall</td><td>hamiltonmelissa@hotmail.com</td><td>(322)831-3470x74186</td><td>Deanstad</td><td>2021-07-14</td><td>2025-08-30T01:03:28.000Z</td></tr><tr><td>135</td><td>Stephen</td><td>Cruz</td><td>cperry@hotmail.com</td><td>050-814-6717x862</td><td>East Kimberlymouth</td><td>2023-11-06</td><td>2025-09-19T02:15:55.000Z</td></tr><tr><td>136</td><td>Elizabeth</td><td>Larson</td><td>ashley96@crawford.com</td><td>482.121.1034x747</td><td>East Ronaldside</td><td>2022-03-12</td><td>2025-09-07T05:07:23.000Z</td></tr><tr><td>137</td><td>Lisa</td><td>Crawford</td><td>bentleywalter@miller-harrell.com</td><td>091.757.2570</td><td>Port Jefferytown</td><td>2025-01-16</td><td>2025-08-22T19:16:44.000Z</td></tr><tr><td>138</td><td>Jeremy</td><td>Wise</td><td>mrose@lawrence.com</td><td>5418680269</td><td>Cindyberg</td><td>2023-08-17</td><td>2025-08-31T16:15:15.000Z</td></tr><tr><td>139</td><td>Anthony</td><td>Hicks</td><td>gonzalesalexander@yahoo.com</td><td>(950)210-3420</td><td>Aaronville</td><td>2025-04-08</td><td>2025-09-18T19:54:48.000Z</td></tr><tr><td>140</td><td>Brian</td><td>Decker</td><td>martinezdebra@hotmail.com</td><td>(303)736-0498</td><td>Woodtown</td><td>2023-06-02</td><td>2025-09-19T11:35:04.000Z</td></tr><tr><td>141</td><td>Anita</td><td>Lewis</td><td>matthew04@olson-sullivan.biz</td><td>+1-959-063-8465</td><td>East Susan</td><td>2024-03-10</td><td>2025-08-24T13:40:33.000Z</td></tr><tr><td>142</td><td>Jesse</td><td>Hart</td><td>jasonfowler@hotmail.com</td><td>1983301937</td><td>West Nicolefort</td><td>2025-06-29</td><td>2025-08-24T08:17:28.000Z</td></tr><tr><td>143</td><td>Thomas</td><td>Alexander</td><td>lovediana@yahoo.com</td><td>299-754-1775x1688</td><td>Jenniferland</td><td>2024-09-30</td><td>2025-09-18T22:14:51.000Z</td></tr><tr><td>144</td><td>Maria</td><td>Bradley</td><td>drakeshawn@reyes-maxwell.com</td><td>(524)026-1442x11158</td><td>Robinsonport</td><td>2025-06-28</td><td>2025-09-14T10:14:26.000Z</td></tr><tr><td>145</td><td>Richard</td><td>Williams</td><td>brian35@hotmail.com</td><td>548-546-9991x2695</td><td>Port Yvonne</td><td>2023-05-25</td><td>2025-08-28T14:51:07.000Z</td></tr><tr><td>146</td><td>Olivia</td><td>Flores</td><td>leslie28@yahoo.com</td><td>308-363-7803</td><td>Savannahberg</td><td>2024-01-24</td><td>2025-09-09T10:51:33.000Z</td></tr><tr><td>147</td><td>Miguel</td><td>Mcguire</td><td>drakeerik@nicholson.com</td><td>(096)046-1575x70787</td><td>Andrewbury</td><td>2024-06-30</td><td>2025-09-05T02:47:15.000Z</td></tr><tr><td>148</td><td>Karen</td><td>Hill</td><td>qthompson@mann.com</td><td>+1-224-804-1360</td><td>West Derrickview</td><td>2025-04-19</td><td>2025-09-07T10:21:41.000Z</td></tr><tr><td>149</td><td>Jonathan</td><td>Gibson</td><td>morgannicole@hotmail.com</td><td>001-109-728-3115x822</td><td>North Brianberg</td><td>2024-04-18</td><td>2025-09-09T00:26:15.000Z</td></tr><tr><td>150</td><td>Tina</td><td>Carpenter</td><td>bowendestiny@marks.com</td><td>(274)454-7012x266</td><td>Port Corystad</td><td>2022-12-25</td><td>2025-09-15T15:02:29.000Z</td></tr><tr><td>151</td><td>Angela</td><td>Matthews</td><td>adam18@kim.biz</td><td>001-451-431-2551x08584</td><td>North Johnville</td><td>2020-11-16</td><td>2025-09-14T20:40:53.000Z</td></tr><tr><td>152</td><td>Brett</td><td>Chambers</td><td>karencameron@yahoo.com</td><td>001-863-239-1491x73157</td><td>Robertberg</td><td>2021-05-09</td><td>2025-08-21T04:20:47.000Z</td></tr><tr><td>153</td><td>Brian</td><td>Williams</td><td>ygreen@campbell-reyes.com</td><td>+1-305-455-7696</td><td>South Jessicachester</td><td>2023-08-20</td><td>2025-08-29T10:21:40.000Z</td></tr><tr><td>154</td><td>Jimmy</td><td>Clark</td><td>petersonashley@gmail.com</td><td>041-792-8581x52134</td><td>Eileenbury</td><td>2025-09-03</td><td>2025-09-16T13:01:26.000Z</td></tr><tr><td>155</td><td>Albert</td><td>Perez</td><td>johnbarajas@rodriguez.com</td><td>+1-498-296-6823x0298</td><td>Jonathanmouth</td><td>2025-06-10</td><td>2025-08-23T20:37:01.000Z</td></tr><tr><td>156</td><td>Amanda</td><td>Anderson</td><td>katherine64@yahoo.com</td><td>826.582.7159x0246</td><td>North Joshua</td><td>2022-08-11</td><td>2025-09-16T17:03:29.000Z</td></tr><tr><td>157</td><td>Miranda</td><td>Edwards</td><td>david67@woods-williams.com</td><td>+1-026-462-8529x43636</td><td>West Randyview</td><td>2024-04-29</td><td>2025-08-25T12:25:19.000Z</td></tr><tr><td>158</td><td>Rachel</td><td>Smith</td><td>kennethlong@clark-smith.com</td><td>1262417156</td><td>Swansonshire</td><td>2024-10-31</td><td>2025-08-22T02:39:26.000Z</td></tr><tr><td>159</td><td>Philip</td><td>Flynn</td><td>tromero@weiss.biz</td><td>+1-270-373-5034x9844</td><td>North Theresa</td><td>2022-12-03</td><td>2025-09-14T14:38:26.000Z</td></tr><tr><td>160</td><td>James</td><td>Aguirre</td><td>lisareese@adams.org</td><td>001-419-425-5837x1640</td><td>North Calvin</td><td>2022-09-03</td><td>2025-09-07T16:31:49.000Z</td></tr><tr><td>161</td><td>Michael</td><td>Hernandez</td><td>ntaylor@hotmail.com</td><td>(995)452-9490x17261</td><td>North Amandafurt</td><td>2023-12-13</td><td>2025-09-07T15:40:04.000Z</td></tr><tr><td>162</td><td>Ryan</td><td>Nelson</td><td>timothywilson@hall-downs.biz</td><td>(597)752-3707x9352</td><td>New Robertberg</td><td>2023-05-21</td><td>2025-09-18T11:22:10.000Z</td></tr><tr><td>163</td><td>Donna</td><td>Saunders</td><td>lisa93@hays.com</td><td>001-691-910-2259</td><td>Lake Beverly</td><td>2021-07-13</td><td>2025-09-02T16:37:51.000Z</td></tr><tr><td>164</td><td>Bradley</td><td>Clark</td><td>kayla54@alvarado.com</td><td>001-459-745-7675x5324</td><td>Port Martinbury</td><td>2022-11-17</td><td>2025-09-07T23:51:42.000Z</td></tr><tr><td>165</td><td>Phyllis</td><td>Underwood</td><td>caseygraham@saunders.com</td><td>+1-680-038-5971x325</td><td>South Trevor</td><td>2023-01-16</td><td>2025-09-04T18:18:16.000Z</td></tr><tr><td>166</td><td>Sandra</td><td>Erickson</td><td>woodrichard@yahoo.com</td><td>102-992-6402</td><td>Clayhaven</td><td>2024-04-20</td><td>2025-09-04T08:50:04.000Z</td></tr><tr><td>167</td><td>Jeffrey</td><td>Lee</td><td>xbenson@oconnor.com</td><td>744.244.5980</td><td>East Benjamin</td><td>2021-04-16</td><td>2025-09-01T07:32:52.000Z</td></tr><tr><td>168</td><td>Russell</td><td>Pennington</td><td>kathleenromero@hotmail.com</td><td>8969053692</td><td>Greenton</td><td>2021-07-31</td><td>2025-08-21T20:02:42.000Z</td></tr><tr><td>169</td><td>Amanda</td><td>Ellis</td><td>sheilaholder@yahoo.com</td><td>001-326-447-7228x266</td><td>North Johnberg</td><td>2023-08-27</td><td>2025-09-10T22:50:59.000Z</td></tr><tr><td>170</td><td>Tiffany</td><td>Young</td><td>timothyreyes@mcdaniel-cuevas.info</td><td>+1-252-071-1349x5816</td><td>West Ryan</td><td>2021-04-18</td><td>2025-08-29T03:30:28.000Z</td></tr><tr><td>171</td><td>Kimberly</td><td>Ford</td><td>joelaustin@yahoo.com</td><td>001-965-295-5991x4649</td><td>New Ralph</td><td>2020-10-15</td><td>2025-09-01T02:03:16.000Z</td></tr><tr><td>172</td><td>Stephanie</td><td>Ryan</td><td>sallyobrien@gmail.com</td><td>(790)431-5648x33601</td><td>Parkerchester</td><td>2025-01-31</td><td>2025-09-14T12:11:34.000Z</td></tr><tr><td>173</td><td>James</td><td>Castillo</td><td>robert01@yahoo.com</td><td>+1-890-885-5781x841</td><td>Dominguezburgh</td><td>2021-04-24</td><td>2025-09-06T02:53:58.000Z</td></tr><tr><td>174</td><td>Brandon</td><td>Clark</td><td>mossbreanna@gmail.com</td><td>(263)701-2935x823</td><td>Port Maria</td><td>2025-01-13</td><td>2025-08-23T16:39:05.000Z</td></tr><tr><td>175</td><td>Samantha</td><td>Hodge</td><td>joseph00@yahoo.com</td><td>001-715-206-0866x083</td><td>Port Erikashire</td><td>2022-03-05</td><td>2025-08-22T21:39:06.000Z</td></tr><tr><td>176</td><td>Felicia</td><td>Holland</td><td>michael29@wiggins-blake.com</td><td>+1-753-932-8678x78477</td><td>North Scottshire</td><td>2025-02-20</td><td>2025-09-01T17:49:22.000Z</td></tr><tr><td>177</td><td>Ryan</td><td>Andrews</td><td>margaretperez@evans-graham.com</td><td>149-958-7488x5953</td><td>Craigmouth</td><td>2024-03-16</td><td>2025-08-27T07:17:45.000Z</td></tr><tr><td>178</td><td>Peter</td><td>Lopez</td><td>melissa38@murphy.com</td><td>(150)763-2444x6719</td><td>Johnsonstad</td><td>2025-08-10</td><td>2025-09-02T02:17:02.000Z</td></tr><tr><td>179</td><td>Meghan</td><td>Thomas</td><td>david61@hernandez-lane.org</td><td>+1-499-095-5601</td><td>Kennethstad</td><td>2021-07-28</td><td>2025-08-29T05:17:46.000Z</td></tr><tr><td>180</td><td>Leah</td><td>Baker</td><td>proberson@hotmail.com</td><td>+1-302-646-3846</td><td>Kennethfort</td><td>2022-11-26</td><td>2025-09-06T07:06:24.000Z</td></tr><tr><td>181</td><td>Sarah</td><td>Gross</td><td>russelljennifer@hotmail.com</td><td>457.655.9202x99411</td><td>East Rodneyview</td><td>2020-10-05</td><td>2025-09-06T03:41:48.000Z</td></tr><tr><td>182</td><td>Sophia</td><td>Watson</td><td>hernandezamy@adkins.com</td><td>6714929006</td><td>West Jasonmouth</td><td>2025-04-17</td><td>2025-08-23T23:27:11.000Z</td></tr><tr><td>183</td><td>Rose</td><td>Potter</td><td>carrollanthony@martinez.biz</td><td>687-562-3693</td><td>Murphyton</td><td>2021-05-15</td><td>2025-09-01T13:57:07.000Z</td></tr><tr><td>184</td><td>Rebecca</td><td>Carr</td><td>peteryang@walker-burton.com</td><td>(832)916-1101</td><td>Lake Kim</td><td>2023-04-07</td><td>2025-09-10T09:16:01.000Z</td></tr><tr><td>185</td><td>David</td><td>Carroll</td><td>hyoung@yahoo.com</td><td>(948)728-5315</td><td>Amberland</td><td>2024-05-05</td><td>2025-08-28T14:03:15.000Z</td></tr><tr><td>186</td><td>Mary</td><td>Brown</td><td>cindyvalenzuela@bass.com</td><td>675-881-9586x244</td><td>North Jason</td><td>2024-09-26</td><td>2025-09-10T04:57:55.000Z</td></tr><tr><td>187</td><td>Carrie</td><td>Parks</td><td>sandrarichard@scott.com</td><td>+1-553-134-5608</td><td>Carrieside</td><td>2021-02-23</td><td>2025-08-24T07:05:13.000Z</td></tr><tr><td>188</td><td>Johnathan</td><td>Leonard</td><td>rhodespamela@hotmail.com</td><td>(586)539-0647</td><td>Frostview</td><td>2025-02-05</td><td>2025-08-29T02:41:45.000Z</td></tr><tr><td>189</td><td>Jasmine</td><td>Miller</td><td>timothythompson@moore.org</td><td>2441015703</td><td>Jonesstad</td><td>2022-04-16</td><td>2025-09-02T03:43:10.000Z</td></tr><tr><td>190</td><td>Jonathan</td><td>Tran</td><td>sarahthompson@robertson.com</td><td>944.549.7152x505</td><td>Port Joseph</td><td>2022-04-14</td><td>2025-09-08T20:29:04.000Z</td></tr><tr><td>191</td><td>Christopher</td><td>Kim</td><td>tyler10@parsons-gomez.com</td><td>757-014-4199x75554</td><td>Port Michelle</td><td>2022-10-31</td><td>2025-09-17T10:19:44.000Z</td></tr><tr><td>192</td><td>Shannon</td><td>Gallagher</td><td>roachrenee@hotmail.com</td><td>+1-768-447-8757x233</td><td>Alishaland</td><td>2024-04-16</td><td>2025-08-27T15:21:01.000Z</td></tr><tr><td>193</td><td>Carl</td><td>Wilson</td><td>curtismitchell@gonzalez.com</td><td>001-633-177-7082</td><td>Cameronmouth</td><td>2024-10-01</td><td>2025-08-22T19:40:58.000Z</td></tr><tr><td>194</td><td>Maria</td><td>Ramsey</td><td>katherineanderson@gmail.com</td><td>001-921-539-2623x791</td><td>Lake Brandiport</td><td>2023-09-12</td><td>2025-09-07T17:00:04.000Z</td></tr><tr><td>195</td><td>Francis</td><td>Baker</td><td>bryan64@harris.net</td><td>536-874-7617</td><td>New Chloeside</td><td>2024-07-25</td><td>2025-09-07T03:16:53.000Z</td></tr><tr><td>196</td><td>Emily</td><td>Cabrera</td><td>ubrown@gmail.com</td><td>(352)635-6477x788</td><td>Sweeneytown</td><td>2021-03-13</td><td>2025-09-09T10:12:38.000Z</td></tr><tr><td>197</td><td>Richard</td><td>Anderson</td><td>aprilkim@gmail.com</td><td>722-662-3843x221</td><td>Heatherburgh</td><td>2024-03-07</td><td>2025-09-18T08:14:23.000Z</td></tr><tr><td>198</td><td>Bradley</td><td>Dunn</td><td>davidperez@hotmail.com</td><td>+1-426-033-6141</td><td>Aaronside</td><td>2023-02-18</td><td>2025-09-12T02:27:11.000Z</td></tr><tr><td>199</td><td>Susan</td><td>Brown</td><td>masonnicholas@yahoo.com</td><td>573-864-2777</td><td>Saraview</td><td>2021-04-18</td><td>2025-09-05T17:40:31.000Z</td></tr><tr><td>200</td><td>Jaclyn</td><td>Smith</td><td>allisonbarnes@yahoo.com</td><td>006-073-9277x533</td><td>Rebeccamouth</td><td>2024-05-04</td><td>2025-08-28T13:14:58.000Z</td></tr></tbody></table></div>"
      ]
     },
     "metadata": {
      "application/vnd.databricks.v1+output": {
       "addedWidgets": {},
       "aggData": [],
       "aggError": "",
       "aggOverflow": false,
       "aggSchema": [],
       "aggSeriesLimitReached": false,
       "aggType": "",
       "arguments": {},
       "columnCustomDisplayInfos": {},
       "data": [
        [
         1,
         "Daniel",
         "Reed",
         "azimmerman@ramirez-nelson.com",
         "811-724-1080",
         "Tiffanyview",
         "2023-12-25",
         "2025-09-15T15:21:05.000Z"
        ],
        [
         2,
         "Jonathan",
         "Hansen",
         "williammiller@serrano-jones.com",
         "632-190-4027x0198",
         "Baldwinburgh",
         "2021-01-23",
         "2025-09-19T20:19:41.000Z"
        ],
        [
         3,
         "Samuel",
         "Rodriguez",
         "troy07@carrillo-webb.info",
         "676.094.0716",
         "New Ashley",
         "2025-05-31",
         "2025-09-13T03:45:53.000Z"
        ],
        [
         4,
         "Victor",
         "Sanchez",
         "jonthompson@thomas.biz",
         "960-929-2694",
         "Stephanieton",
         "2024-08-31",
         "2025-08-23T00:38:03.000Z"
        ],
        [
         5,
         "Sabrina",
         "Black",
         "patricknewman@williams.biz",
         "+1-621-699-9458x79470",
         "South Christopherport",
         "2023-05-18",
         "2025-08-20T16:08:38.000Z"
        ],
        [
         6,
         "Melissa",
         "Blair",
         "courtney29@gmail.com",
         "(332)469-2812x91807",
         "East Pamela",
         "2025-09-17",
         "2025-08-24T09:44:20.000Z"
        ],
        [
         7,
         "Jacqueline",
         "Williams",
         "robertmoore@gmail.com",
         "7312603248",
         "Fritzmouth",
         "2023-05-29",
         "2025-08-28T19:40:31.000Z"
        ],
        [
         8,
         "Christina",
         "Arnold",
         "parkerbridget@yahoo.com",
         "(878)682-1357",
         "North Sarah",
         "2023-09-21",
         "2025-09-06T20:36:02.000Z"
        ],
        [
         9,
         "Lisa",
         "Shelton",
         "cody49@johnson.org",
         "9349468560",
         "South Kyleview",
         "2022-12-13",
         "2025-09-08T14:57:58.000Z"
        ],
        [
         10,
         "Megan",
         "Dean",
         "vritter@yahoo.com",
         "001-967-061-8100x482",
         "Port Jesse",
         "2023-03-12",
         "2025-09-07T23:05:32.000Z"
        ],
        [
         11,
         "Barbara",
         "Anderson",
         "kristen04@hotmail.com",
         "392.066.9676x001",
         "South Stephanieberg",
         "2022-04-28",
         "2025-09-07T03:15:02.000Z"
        ],
        [
         12,
         "Laura",
         "Roman",
         "wilsonlaura@lewis.com",
         "+1-648-097-6914x62270",
         "Andrewton",
         "2023-11-10",
         "2025-09-01T23:32:42.000Z"
        ],
        [
         13,
         "Melissa",
         "Knight",
         "tabitha21@ferguson.com",
         "619-904-4971x465",
         "Lake Amandaview",
         "2025-09-05",
         "2025-09-10T17:37:27.000Z"
        ],
        [
         14,
         "Patricia",
         "Little",
         "middletonjennifer@yahoo.com",
         "(464)974-5556",
         "North Amymouth",
         "2022-03-31",
         "2025-09-14T06:35:22.000Z"
        ],
        [
         15,
         "Martin",
         "Roberts",
         "fallen@li.net",
         "138.024.5765x7072",
         "Timothyview",
         "2024-11-16",
         "2025-08-31T01:01:56.000Z"
        ],
        [
         16,
         "David",
         "Mcbride",
         "caitlin10@allen-sullivan.info",
         "+1-849-307-9208x527",
         "East Kimberg",
         "2023-10-14",
         "2025-08-25T23:20:01.000Z"
        ],
        [
         17,
         "Ian",
         "Rodriguez",
         "jason56@tucker-anderson.net",
         "(014)014-9166",
         "New Tara",
         "2024-05-15",
         "2025-09-07T13:43:20.000Z"
        ],
        [
         18,
         "Catherine",
         "Wade",
         "kgibson@smith-wright.com",
         "(542)408-0642x68171",
         "Roseland",
         "2024-09-28",
         "2025-08-20T14:11:27.000Z"
        ],
        [
         19,
         "Alexander",
         "Williams",
         "kevinporter@waters.info",
         "544.416.0143x02242",
         "Lawrencebury",
         "2021-03-14",
         "2025-08-20T20:55:48.000Z"
        ],
        [
         20,
         "Natalie",
         "Ramos",
         "ssmith@wood.info",
         "915-451-0188x769",
         "Catherinehaven",
         "2020-12-12",
         "2025-09-09T10:07:45.000Z"
        ],
        [
         21,
         "Breanna",
         "Roberts",
         "derekmills@yahoo.com",
         "001-155-923-3977",
         "Christopherport",
         "2020-10-24",
         "2025-09-03T10:49:39.000Z"
        ],
        [
         22,
         "Angela",
         "Mayer",
         "xbarnes@hotmail.com",
         "301.179.9757x831",
         "New Michaelbury",
         "2024-04-05",
         "2025-09-10T18:01:00.000Z"
        ],
        [
         23,
         "Christina",
         "Fowler",
         "sandersmark@hotmail.com",
         "001-744-059-9633x776",
         "Katrinatown",
         "2022-08-20",
         "2025-09-18T06:35:43.000Z"
        ],
        [
         24,
         "Jeffrey",
         "Casey",
         "kenneth21@schmitt.com",
         "(784)645-5042x866",
         "Ibarraport",
         "2021-05-06",
         "2025-08-22T20:21:27.000Z"
        ],
        [
         25,
         "Darlene",
         "Murray",
         "smithdana@mccarthy.org",
         "3298224429",
         "Smithfort",
         "2024-07-15",
         "2025-09-15T13:19:49.000Z"
        ],
        [
         26,
         "Austin",
         "Johnson",
         "davidbennett@gmail.com",
         "657-690-8701x263",
         "Nealton",
         "2024-12-02",
         "2025-09-10T14:54:36.000Z"
        ],
        [
         27,
         "Michelle",
         "Golden",
         "calvinhernandez@kelly-brown.com",
         "6042816636",
         "North Zacharyton",
         "2024-09-18",
         "2025-09-20T05:47:16.000Z"
        ],
        [
         28,
         "Joseph",
         "Ross",
         "bcollins@baker-smith.com",
         "(657)795-6357x399",
         "Lake Jeremy",
         "2021-08-14",
         "2025-08-22T09:10:27.000Z"
        ],
        [
         29,
         "Jacqueline",
         "Perez",
         "christian27@yahoo.com",
         "001-830-447-2407x853",
         "Edwardsland",
         "2025-08-13",
         "2025-09-03T22:14:29.000Z"
        ],
        [
         30,
         "Nicholas",
         "Hill",
         "david01@case-welch.com",
         "(703)398-7705x8124",
         "Port Jaclynborough",
         "2022-04-20",
         "2025-08-29T03:18:27.000Z"
        ],
        [
         31,
         "Tami",
         "Dickerson",
         "dukemichael@hotmail.com",
         "001-443-990-0748x713",
         "Camachotown",
         "2023-05-11",
         "2025-09-18T15:08:19.000Z"
        ],
        [
         32,
         "Claudia",
         "Johnson",
         "elliottstephanie@hayden.net",
         "001-816-438-0045x12489",
         "Ramosbury",
         "2021-01-26",
         "2025-08-31T19:41:05.000Z"
        ],
        [
         33,
         "Andrew",
         "Smith",
         "yvalentine@hotmail.com",
         "1921706047",
         "Port Elizabeth",
         "2023-08-18",
         "2025-09-10T15:56:22.000Z"
        ],
        [
         34,
         "Chad",
         "Howell",
         "lisa13@gibson.org",
         "669.452.2228",
         "Rebeccaport",
         "2023-10-30",
         "2025-09-06T18:32:57.000Z"
        ],
        [
         35,
         "Christopher",
         "Rowe",
         "donna39@williams.net",
         "843.006.6369",
         "Wongburgh",
         "2021-08-17",
         "2025-09-10T08:32:49.000Z"
        ],
        [
         36,
         "Eric",
         "Moran",
         "morsejames@cooper.info",
         "041.420.9573x7103",
         "East Gregory",
         "2024-05-08",
         "2025-09-11T20:52:14.000Z"
        ],
        [
         37,
         "Steven",
         "Johnson",
         "joshuasimmons@horne.com",
         "001-833-144-8169x308",
         "East Kelseyhaven",
         "2024-08-04",
         "2025-09-06T09:28:47.000Z"
        ],
        [
         38,
         "Alison",
         "Ellis",
         "melissa16@gmail.com",
         "001-282-485-8290x7022",
         "East Cynthiabury",
         "2023-02-21",
         "2025-09-19T00:37:01.000Z"
        ],
        [
         39,
         "Nathan",
         "Zimmerman",
         "clarkcourtney@hotmail.com",
         "+1-089-449-1703x310",
         "Shariborough",
         "2021-11-20",
         "2025-09-20T08:43:37.000Z"
        ],
        [
         40,
         "Haley",
         "Ewing",
         "courtneymaynard@gmail.com",
         "+1-973-783-4122x32960",
         "Jameston",
         "2024-06-02",
         "2025-09-16T08:28:31.000Z"
        ],
        [
         41,
         "Zachary",
         "Horton",
         "cglass@gmail.com",
         "+1-978-026-0476x5484",
         "Zimmermanstad",
         "2024-02-18",
         "2025-09-14T04:03:13.000Z"
        ],
        [
         42,
         "Justin",
         "Flowers",
         "tiffanydavis@yahoo.com",
         "001-606-054-3917x611",
         "Michaelview",
         "2022-07-31",
         "2025-08-26T17:43:14.000Z"
        ],
        [
         43,
         "Meghan",
         "Ibarra",
         "jason48@hotmail.com",
         "979.247.3612",
         "Jessestad",
         "2023-09-28",
         "2025-09-05T15:12:32.000Z"
        ],
        [
         44,
         "Joshua",
         "Brown",
         "jonesmichael@may-nash.info",
         "253.796.2825",
         "Julieton",
         "2021-11-21",
         "2025-09-07T05:05:06.000Z"
        ],
        [
         45,
         "Kathryn",
         "Barr",
         "alicia67@yahoo.com",
         "158-790-0026x3166",
         "Lake Donaldburgh",
         "2024-02-04",
         "2025-09-05T12:40:03.000Z"
        ],
        [
         46,
         "Ashley",
         "Weaver",
         "vpierce@yahoo.com",
         "(170)960-6080x1993",
         "Port Robert",
         "2025-04-19",
         "2025-08-23T09:33:12.000Z"
        ],
        [
         47,
         "Taylor",
         "Hayes",
         "erika01@thomas.com",
         "(340)202-3990",
         "Smithfort",
         "2022-08-13",
         "2025-08-31T00:14:56.000Z"
        ],
        [
         48,
         "Ashley",
         "Meyer",
         "qwelch@hotmail.com",
         "(831)281-8661",
         "Donfurt",
         "2024-01-25",
         "2025-08-25T13:34:33.000Z"
        ],
        [
         49,
         "James",
         "Reed",
         "donnadecker@hotmail.com",
         "+1-684-852-1184",
         "Laurastad",
         "2022-10-15",
         "2025-08-22T15:13:32.000Z"
        ],
        [
         50,
         "Alan",
         "Martin",
         "adam97@hotmail.com",
         "+1-216-282-6005",
         "Port Ashleyburgh",
         "2023-07-05",
         "2025-08-28T08:39:55.000Z"
        ],
        [
         51,
         "Michele",
         "Anderson",
         "victoria03@burns.com",
         "4667587033",
         "Nicholaston",
         "2024-08-22",
         "2025-08-20T14:34:30.000Z"
        ],
        [
         52,
         "Jason",
         "Ortiz",
         "joshua55@duncan.info",
         "001-692-483-1585x81661",
         "North Joshuaville",
         "2025-08-19",
         "2025-09-01T02:57:34.000Z"
        ],
        [
         53,
         "Victor",
         "Davis",
         "qhamilton@yahoo.com",
         "(230)739-5814x21724",
         "Baileyberg",
         "2021-12-10",
         "2025-09-13T16:23:20.000Z"
        ],
        [
         54,
         "Phillip",
         "Miller",
         "aprilesparza@hotmail.com",
         "0250282605",
         "North Henryland",
         "2025-06-11",
         "2025-08-29T16:00:47.000Z"
        ],
        [
         55,
         "Joseph",
         "Mccarthy",
         "ellencooper@yahoo.com",
         "(489)036-9853x187",
         "West Emilytown",
         "2022-10-24",
         "2025-09-18T03:36:23.000Z"
        ],
        [
         56,
         "William",
         "Freeman",
         "tina28@yahoo.com",
         "(347)773-1763x0130",
         "West Steventown",
         "2025-07-08",
         "2025-08-21T20:59:09.000Z"
        ],
        [
         57,
         "Andrew",
         "Butler",
         "martinezmelanie@gmail.com",
         "1587940682",
         "Port Haileymouth",
         "2024-11-07",
         "2025-08-23T15:24:01.000Z"
        ],
        [
         58,
         "Margaret",
         "Lewis",
         "bwright@hunt-frey.org",
         "944.187.6739x14634",
         "Kellyport",
         "2021-09-17",
         "2025-08-31T17:58:31.000Z"
        ],
        [
         59,
         "Pamela",
         "Rush",
         "mitchellalan@martinez.info",
         "001-975-383-8080x642",
         "Conleyfort",
         "2021-02-18",
         "2025-08-31T00:23:51.000Z"
        ],
        [
         60,
         "Nicholas",
         "Williams",
         "sean09@hotmail.com",
         "001-913-875-2234x36321",
         "North Jonathan",
         "2024-08-07",
         "2025-08-23T11:54:18.000Z"
        ],
        [
         61,
         "Jeffery",
         "Nguyen",
         "jameswebster@hotmail.com",
         "+1-504-492-2970x2927",
         "Jennifershire",
         "2020-12-31",
         "2025-09-02T04:32:20.000Z"
        ],
        [
         62,
         "Tara",
         "Roberts",
         "michaelsharp@graves.net",
         "969.274.9240",
         "Loganside",
         "2021-02-23",
         "2025-09-03T02:57:01.000Z"
        ],
        [
         63,
         "Vanessa",
         "Alvarez",
         "jthomas@lam.com",
         "+1-262-377-1370x0643",
         "Mckenziefurt",
         "2021-05-20",
         "2025-08-27T09:23:10.000Z"
        ],
        [
         64,
         "Caitlyn",
         "Rose",
         "barbermichael@sellers.biz",
         "847-256-4033x505",
         "Port Laura",
         "2024-10-30",
         "2025-08-21T21:52:52.000Z"
        ],
        [
         65,
         "Jennifer",
         "Williams",
         "darrellsingh@hernandez.com",
         "609.998.2380x007",
         "Lake Anthonymouth",
         "2023-10-05",
         "2025-09-12T04:41:42.000Z"
        ],
        [
         66,
         "Tiffany",
         "Smith",
         "armstrongjoy@yahoo.com",
         "324-782-7838x9007",
         "East James",
         "2024-01-08",
         "2025-09-13T14:49:06.000Z"
        ],
        [
         67,
         "Jennifer",
         "Klein",
         "rharrison@gmail.com",
         "001-588-531-3755",
         "Browningland",
         "2021-05-05",
         "2025-08-28T23:30:51.000Z"
        ],
        [
         68,
         "Marissa",
         "Ramsey",
         "susanlittle@taylor-richards.biz",
         "8251941793",
         "Lake Dannyshire",
         "2021-11-15",
         "2025-09-06T00:14:17.000Z"
        ],
        [
         69,
         "Brett",
         "Mcdaniel",
         "lonnie81@wheeler-ferrell.com",
         "6409684040",
         "Lake Katherine",
         "2024-04-18",
         "2025-08-28T20:45:27.000Z"
        ],
        [
         70,
         "Richard",
         "Knox",
         "donna07@jones.com",
         "552.245.0080x14131",
         "South Jimmy",
         "2022-01-24",
         "2025-09-04T19:17:45.000Z"
        ],
        [
         71,
         "Matthew",
         "Burton",
         "genglish@yahoo.com",
         "884-076-7802x316",
         "Vangfort",
         "2023-08-01",
         "2025-08-29T20:46:52.000Z"
        ],
        [
         72,
         "Alyssa",
         "Butler",
         "nguyenjorge@hotmail.com",
         "909-386-6377x9502",
         "East Davidfort",
         "2021-03-15",
         "2025-09-13T20:37:42.000Z"
        ],
        [
         73,
         "Cassandra",
         "Smith",
         "ronalddecker@hotmail.com",
         "686-491-6093x45649",
         "Reynoldsstad",
         "2024-04-06",
         "2025-09-03T08:53:32.000Z"
        ],
        [
         74,
         "Francisco",
         "Mason",
         "halejeremy@jackson.biz",
         "708-737-9907",
         "East Adam",
         "2024-05-13",
         "2025-09-12T16:05:35.000Z"
        ],
        [
         75,
         "Albert",
         "Cooper",
         "jillflores@parrish.net",
         "743-649-3140x62019",
         "West Crystal",
         "2022-07-02",
         "2025-09-02T01:35:51.000Z"
        ],
        [
         76,
         "Diamond",
         "Craig",
         "lrobinson@gmail.com",
         "(712)521-1933x252",
         "South Elijah",
         "2022-01-04",
         "2025-09-19T08:31:22.000Z"
        ],
        [
         77,
         "Kathleen",
         "Dorsey",
         "melanie89@yahoo.com",
         "+1-598-394-3922x670",
         "Port Amy",
         "2024-03-22",
         "2025-09-12T02:34:34.000Z"
        ],
        [
         78,
         "Joshua",
         "Perkins",
         "brucekristina@hotmail.com",
         "(162)365-9634x36052",
         "New Andrea",
         "2024-02-12",
         "2025-08-21T23:47:19.000Z"
        ],
        [
         79,
         "Pamela",
         "Gardner",
         "sara21@gmail.com",
         "106.350.8085",
         "Carpenterville",
         "2024-05-26",
         "2025-09-17T01:15:54.000Z"
        ],
        [
         80,
         "Toni",
         "Morris",
         "butlerkristen@hotmail.com",
         "001-220-421-4251x3568",
         "North William",
         "2022-09-25",
         "2025-09-01T13:28:35.000Z"
        ],
        [
         81,
         "Wendy",
         "Reynolds",
         "nicholewebb@owens.com",
         "903.429.4291",
         "Grayland",
         "2024-03-26",
         "2025-09-07T01:05:57.000Z"
        ],
        [
         82,
         "Sabrina",
         "Mason",
         "davisemily@gmail.com",
         "+1-108-684-2976",
         "North Joshua",
         "2023-07-28",
         "2025-09-14T01:04:59.000Z"
        ],
        [
         83,
         "Jodi",
         "Miller",
         "sarah79@yahoo.com",
         "(180)906-3833",
         "New John",
         "2024-07-24",
         "2025-09-04T00:31:21.000Z"
        ],
        [
         84,
         "James",
         "Robinson",
         "ahines@holmes.com",
         "+1-317-861-5583",
         "Lake Maria",
         "2025-04-30",
         "2025-09-12T21:34:57.000Z"
        ],
        [
         85,
         "Michelle",
         "Schmidt",
         "nicholas32@lopez.com",
         "(696)214-0776x38995",
         "New Jessechester",
         "2021-08-11",
         "2025-08-20T13:01:40.000Z"
        ],
        [
         86,
         "Tara",
         "Cruz",
         "robinsonbrenda@yahoo.com",
         "611.557.7248x74013",
         "Jillstad",
         "2022-10-09",
         "2025-09-11T21:26:05.000Z"
        ],
        [
         87,
         "Joshua",
         "Morris",
         "vestrada@weaver.com",
         "(792)508-2695x693",
         "Lake John",
         "2021-09-04",
         "2025-09-18T22:35:48.000Z"
        ],
        [
         88,
         "Julie",
         "Arnold",
         "amandasmith@reid-rasmussen.com",
         "001-982-149-2967x2205",
         "South Dawn",
         "2020-12-20",
         "2025-08-31T10:09:07.000Z"
        ],
        [
         89,
         "Evan",
         "Wagner",
         "jaredwells@greer-jones.net",
         "(472)882-7884",
         "Andersenbury",
         "2023-05-14",
         "2025-09-01T03:21:20.000Z"
        ],
        [
         90,
         "James",
         "Washington",
         "mavila@hotmail.com",
         "6664662178",
         "Elizabethchester",
         "2023-06-02",
         "2025-09-02T14:34:05.000Z"
        ],
        [
         91,
         "Eric",
         "Baker",
         "rthompson@gmail.com",
         "662.385.4431",
         "Amberville",
         "2023-01-01",
         "2025-09-01T08:25:46.000Z"
        ],
        [
         92,
         "Susan",
         "Bentley",
         "mistynguyen@yahoo.com",
         "001-556-651-2524x1842",
         "Haysmouth",
         "2020-12-10",
         "2025-09-12T12:24:03.000Z"
        ],
        [
         93,
         "Ian",
         "Nelson",
         "nancy69@yahoo.com",
         "753.981.7532x7266",
         "Marieberg",
         "2021-06-18",
         "2025-09-19T09:12:23.000Z"
        ],
        [
         94,
         "Donna",
         "Williams",
         "kimberly86@diaz-miller.info",
         "140.365.6932x6722",
         "Jonesburgh",
         "2020-12-16",
         "2025-09-01T21:41:58.000Z"
        ],
        [
         95,
         "Julie",
         "Powers",
         "zortega@hotmail.com",
         "871.248.5100x0394",
         "North Laurenton",
         "2022-06-21",
         "2025-08-24T05:15:53.000Z"
        ],
        [
         96,
         "Jennifer",
         "Jones",
         "qmartinez@johnson-hood.com",
         "(781)829-4921x71170",
         "Foxtown",
         "2024-04-06",
         "2025-09-20T04:39:00.000Z"
        ],
        [
         97,
         "Jasmine",
         "Adams",
         "derrickwhite@mcmillan-torres.com",
         "426.017.7162x360",
         "Port Danielview",
         "2022-11-28",
         "2025-09-19T16:18:39.000Z"
        ],
        [
         98,
         "Maria",
         "Davidson",
         "thomastucker@torres.info",
         "001-793-838-1697x324",
         "Brittanyhaven",
         "2023-08-23",
         "2025-09-16T12:06:17.000Z"
        ],
        [
         99,
         "Joseph",
         "Turner",
         "schwartzmichael@hotmail.com",
         "001-211-239-3709x94909",
         "New Joseph",
         "2021-06-08",
         "2025-08-29T18:16:56.000Z"
        ],
        [
         100,
         "Gary",
         "Barnes",
         "newmanmelanie@flynn-ross.org",
         "001-057-530-2069",
         "North Charlestown",
         "2022-06-22",
         "2025-09-14T22:47:28.000Z"
        ],
        [
         101,
         "Stacy",
         "Thomas",
         "hannahwhite@hotmail.com",
         "(888)234-0212x190",
         "Lisachester",
         "2020-09-24",
         "2025-09-10T22:45:30.000Z"
        ],
        [
         102,
         "Alan",
         "Rogers",
         "cunninghamjessica@yahoo.com",
         "001-059-131-5078",
         "Harrisbury",
         "2023-07-29",
         "2025-09-19T21:57:29.000Z"
        ],
        [
         103,
         "Stephen",
         "Sanders",
         "sherry55@hernandez.com",
         "(125)864-6551x2757",
         "Port Michael",
         "2022-06-18",
         "2025-09-09T06:06:57.000Z"
        ],
        [
         104,
         "Duane",
         "Bennett",
         "moralessandy@arnold-robinson.com",
         "001-863-426-7566x120",
         "Lake Kelly",
         "2020-11-07",
         "2025-09-17T02:22:22.000Z"
        ],
        [
         105,
         "Jasmin",
         "Patterson",
         "matthewsbenjamin@lloyd.com",
         "877.103.6696x5279",
         "South Wyattfort",
         "2021-04-11",
         "2025-08-25T11:18:42.000Z"
        ],
        [
         106,
         "Kara",
         "Williams",
         "tyleryoung@gross.org",
         "411.271.6645x2578",
         "Seanview",
         "2024-01-05",
         "2025-08-25T04:33:25.000Z"
        ],
        [
         107,
         "Martin",
         "Williams",
         "brandyphillips@hotmail.com",
         "+1-789-162-5036",
         "Melissabury",
         "2021-06-15",
         "2025-09-14T13:56:22.000Z"
        ],
        [
         108,
         "Julian",
         "Bell",
         "yodonnell@gmail.com",
         "679.256.6118",
         "Port Brandon",
         "2024-10-18",
         "2025-09-16T17:58:10.000Z"
        ],
        [
         109,
         "Sharon",
         "Reed",
         "zweaver@hotmail.com",
         "001-838-712-2136",
         "Jacquelineside",
         "2021-05-11",
         "2025-09-01T22:46:52.000Z"
        ],
        [
         110,
         "Christine",
         "Smith",
         "qevans@hotmail.com",
         "047.526.3467x475",
         "New Susan",
         "2022-06-22",
         "2025-09-19T09:00:30.000Z"
        ],
        [
         111,
         "Joseph",
         "Hampton",
         "thomas64@yahoo.com",
         "593-796-3021x8361",
         "New James",
         "2025-07-08",
         "2025-08-26T05:04:41.000Z"
        ],
        [
         112,
         "Joshua",
         "Peterson",
         "brandontanner@maldonado-brown.com",
         "(108)891-1686",
         "North Martinfort",
         "2022-03-27",
         "2025-09-11T17:51:51.000Z"
        ],
        [
         113,
         "Kari",
         "Bond",
         "amy19@hotmail.com",
         "546-921-8087x99627",
         "North Brittanyshire",
         "2022-12-04",
         "2025-09-08T04:59:57.000Z"
        ],
        [
         114,
         "Melissa",
         "Johnson",
         "stewartkevin@reed.com",
         "001-225-555-5198x82023",
         "Port Amandabury",
         "2025-03-29",
         "2025-08-31T20:03:20.000Z"
        ],
        [
         115,
         "Thomas",
         "Elliott",
         "hornronald@hall-gutierrez.com",
         "767.288.1452x34310",
         "Gavinfort",
         "2025-01-12",
         "2025-09-02T02:33:28.000Z"
        ],
        [
         116,
         "Jennifer",
         "Grimes",
         "parrishrichard@yahoo.com",
         "(450)543-5605",
         "Huntborough",
         "2023-02-03",
         "2025-09-02T22:29:59.000Z"
        ],
        [
         117,
         "Christopher",
         "Jones",
         "madison07@mendoza.com",
         "(526)195-4761",
         "West Andrew",
         "2024-10-07",
         "2025-09-01T21:01:28.000Z"
        ],
        [
         118,
         "Joshua",
         "Sutton",
         "mosstroy@gmail.com",
         "091.543.6994x2249",
         "Payneshire",
         "2024-04-26",
         "2025-08-27T23:32:46.000Z"
        ],
        [
         119,
         "Joshua",
         "Bailey",
         "michaelthornton@raymond-clarke.com",
         "8685503172",
         "East Tonyshire",
         "2021-10-30",
         "2025-08-29T06:52:55.000Z"
        ],
        [
         120,
         "Daniel",
         "Coleman",
         "millertammy@howard-johnson.info",
         "966.398.9624x869",
         "South Jessicaville",
         "2020-12-10",
         "2025-09-01T04:47:14.000Z"
        ],
        [
         121,
         "Richard",
         "Thompson",
         "norma62@luna.com",
         "001-017-185-8293x666",
         "South Jamestown",
         "2021-12-30",
         "2025-09-13T18:50:00.000Z"
        ],
        [
         122,
         "Elizabeth",
         "Jones",
         "williamhicks@hotmail.com",
         "(387)189-6972x098",
         "Zacharyfort",
         "2021-05-03",
         "2025-09-18T19:10:02.000Z"
        ],
        [
         123,
         "Austin",
         "Tran",
         "john12@gmail.com",
         "001-625-213-8255x80186",
         "Christinaburgh",
         "2022-09-02",
         "2025-09-13T16:41:24.000Z"
        ],
        [
         124,
         "Nathan",
         "Huang",
         "gravessean@yahoo.com",
         "817-097-1845x938",
         "Ferrellshire",
         "2024-10-20",
         "2025-08-22T07:47:50.000Z"
        ],
        [
         125,
         "Eugene",
         "Frazier",
         "payneaaron@gray.com",
         "630-294-8304",
         "New Phillipfort",
         "2024-01-19",
         "2025-09-03T02:43:20.000Z"
        ],
        [
         126,
         "Richard",
         "Rosales",
         "mark91@hotmail.com",
         "(369)998-2807",
         "Brandiport",
         "2025-07-11",
         "2025-09-18T05:48:52.000Z"
        ],
        [
         127,
         "Sylvia",
         "Padilla",
         "elizabethphillips@yahoo.com",
         "091-130-3917",
         "West Jonathan",
         "2021-03-07",
         "2025-08-23T03:08:27.000Z"
        ],
        [
         128,
         "Sandra",
         "Cooke",
         "kelly93@yahoo.com",
         "417-958-6160x375",
         "Reyesbury",
         "2023-11-28",
         "2025-08-27T10:20:42.000Z"
        ],
        [
         129,
         "Carrie",
         "Russell",
         "jgordon@coleman.com",
         "(435)787-3939x3729",
         "East Suzanneborough",
         "2020-12-24",
         "2025-09-17T05:52:53.000Z"
        ],
        [
         130,
         "Elizabeth",
         "Cruz",
         "michaelberry@gmail.com",
         "287.225.2759x9497",
         "Moonland",
         "2023-12-19",
         "2025-08-29T20:39:02.000Z"
        ],
        [
         131,
         "Cynthia",
         "Campbell",
         "brookejohnson@smith.info",
         "001-371-400-6463x5506",
         "Williamsberg",
         "2022-02-12",
         "2025-08-29T18:32:39.000Z"
        ],
        [
         132,
         "Joseph",
         "Lewis",
         "williamalvarez@gonzales.net",
         "(563)556-2417x8174",
         "South Wayneland",
         "2022-03-02",
         "2025-08-22T09:41:07.000Z"
        ],
        [
         133,
         "Sarah",
         "Romero",
         "davidcampos@burgess-smith.com",
         "276-041-0141x32483",
         "Nelsonville",
         "2025-03-02",
         "2025-08-22T12:22:13.000Z"
        ],
        [
         134,
         "Kelsey",
         "Wall",
         "hamiltonmelissa@hotmail.com",
         "(322)831-3470x74186",
         "Deanstad",
         "2021-07-14",
         "2025-08-30T01:03:28.000Z"
        ],
        [
         135,
         "Stephen",
         "Cruz",
         "cperry@hotmail.com",
         "050-814-6717x862",
         "East Kimberlymouth",
         "2023-11-06",
         "2025-09-19T02:15:55.000Z"
        ],
        [
         136,
         "Elizabeth",
         "Larson",
         "ashley96@crawford.com",
         "482.121.1034x747",
         "East Ronaldside",
         "2022-03-12",
         "2025-09-07T05:07:23.000Z"
        ],
        [
         137,
         "Lisa",
         "Crawford",
         "bentleywalter@miller-harrell.com",
         "091.757.2570",
         "Port Jefferytown",
         "2025-01-16",
         "2025-08-22T19:16:44.000Z"
        ],
        [
         138,
         "Jeremy",
         "Wise",
         "mrose@lawrence.com",
         "5418680269",
         "Cindyberg",
         "2023-08-17",
         "2025-08-31T16:15:15.000Z"
        ],
        [
         139,
         "Anthony",
         "Hicks",
         "gonzalesalexander@yahoo.com",
         "(950)210-3420",
         "Aaronville",
         "2025-04-08",
         "2025-09-18T19:54:48.000Z"
        ],
        [
         140,
         "Brian",
         "Decker",
         "martinezdebra@hotmail.com",
         "(303)736-0498",
         "Woodtown",
         "2023-06-02",
         "2025-09-19T11:35:04.000Z"
        ],
        [
         141,
         "Anita",
         "Lewis",
         "matthew04@olson-sullivan.biz",
         "+1-959-063-8465",
         "East Susan",
         "2024-03-10",
         "2025-08-24T13:40:33.000Z"
        ],
        [
         142,
         "Jesse",
         "Hart",
         "jasonfowler@hotmail.com",
         "1983301937",
         "West Nicolefort",
         "2025-06-29",
         "2025-08-24T08:17:28.000Z"
        ],
        [
         143,
         "Thomas",
         "Alexander",
         "lovediana@yahoo.com",
         "299-754-1775x1688",
         "Jenniferland",
         "2024-09-30",
         "2025-09-18T22:14:51.000Z"
        ],
        [
         144,
         "Maria",
         "Bradley",
         "drakeshawn@reyes-maxwell.com",
         "(524)026-1442x11158",
         "Robinsonport",
         "2025-06-28",
         "2025-09-14T10:14:26.000Z"
        ],
        [
         145,
         "Richard",
         "Williams",
         "brian35@hotmail.com",
         "548-546-9991x2695",
         "Port Yvonne",
         "2023-05-25",
         "2025-08-28T14:51:07.000Z"
        ],
        [
         146,
         "Olivia",
         "Flores",
         "leslie28@yahoo.com",
         "308-363-7803",
         "Savannahberg",
         "2024-01-24",
         "2025-09-09T10:51:33.000Z"
        ],
        [
         147,
         "Miguel",
         "Mcguire",
         "drakeerik@nicholson.com",
         "(096)046-1575x70787",
         "Andrewbury",
         "2024-06-30",
         "2025-09-05T02:47:15.000Z"
        ],
        [
         148,
         "Karen",
         "Hill",
         "qthompson@mann.com",
         "+1-224-804-1360",
         "West Derrickview",
         "2025-04-19",
         "2025-09-07T10:21:41.000Z"
        ],
        [
         149,
         "Jonathan",
         "Gibson",
         "morgannicole@hotmail.com",
         "001-109-728-3115x822",
         "North Brianberg",
         "2024-04-18",
         "2025-09-09T00:26:15.000Z"
        ],
        [
         150,
         "Tina",
         "Carpenter",
         "bowendestiny@marks.com",
         "(274)454-7012x266",
         "Port Corystad",
         "2022-12-25",
         "2025-09-15T15:02:29.000Z"
        ],
        [
         151,
         "Angela",
         "Matthews",
         "adam18@kim.biz",
         "001-451-431-2551x08584",
         "North Johnville",
         "2020-11-16",
         "2025-09-14T20:40:53.000Z"
        ],
        [
         152,
         "Brett",
         "Chambers",
         "karencameron@yahoo.com",
         "001-863-239-1491x73157",
         "Robertberg",
         "2021-05-09",
         "2025-08-21T04:20:47.000Z"
        ],
        [
         153,
         "Brian",
         "Williams",
         "ygreen@campbell-reyes.com",
         "+1-305-455-7696",
         "South Jessicachester",
         "2023-08-20",
         "2025-08-29T10:21:40.000Z"
        ],
        [
         154,
         "Jimmy",
         "Clark",
         "petersonashley@gmail.com",
         "041-792-8581x52134",
         "Eileenbury",
         "2025-09-03",
         "2025-09-16T13:01:26.000Z"
        ],
        [
         155,
         "Albert",
         "Perez",
         "johnbarajas@rodriguez.com",
         "+1-498-296-6823x0298",
         "Jonathanmouth",
         "2025-06-10",
         "2025-08-23T20:37:01.000Z"
        ],
        [
         156,
         "Amanda",
         "Anderson",
         "katherine64@yahoo.com",
         "826.582.7159x0246",
         "North Joshua",
         "2022-08-11",
         "2025-09-16T17:03:29.000Z"
        ],
        [
         157,
         "Miranda",
         "Edwards",
         "david67@woods-williams.com",
         "+1-026-462-8529x43636",
         "West Randyview",
         "2024-04-29",
         "2025-08-25T12:25:19.000Z"
        ],
        [
         158,
         "Rachel",
         "Smith",
         "kennethlong@clark-smith.com",
         "1262417156",
         "Swansonshire",
         "2024-10-31",
         "2025-08-22T02:39:26.000Z"
        ],
        [
         159,
         "Philip",
         "Flynn",
         "tromero@weiss.biz",
         "+1-270-373-5034x9844",
         "North Theresa",
         "2022-12-03",
         "2025-09-14T14:38:26.000Z"
        ],
        [
         160,
         "James",
         "Aguirre",
         "lisareese@adams.org",
         "001-419-425-5837x1640",
         "North Calvin",
         "2022-09-03",
         "2025-09-07T16:31:49.000Z"
        ],
        [
         161,
         "Michael",
         "Hernandez",
         "ntaylor@hotmail.com",
         "(995)452-9490x17261",
         "North Amandafurt",
         "2023-12-13",
         "2025-09-07T15:40:04.000Z"
        ],
        [
         162,
         "Ryan",
         "Nelson",
         "timothywilson@hall-downs.biz",
         "(597)752-3707x9352",
         "New Robertberg",
         "2023-05-21",
         "2025-09-18T11:22:10.000Z"
        ],
        [
         163,
         "Donna",
         "Saunders",
         "lisa93@hays.com",
         "001-691-910-2259",
         "Lake Beverly",
         "2021-07-13",
         "2025-09-02T16:37:51.000Z"
        ],
        [
         164,
         "Bradley",
         "Clark",
         "kayla54@alvarado.com",
         "001-459-745-7675x5324",
         "Port Martinbury",
         "2022-11-17",
         "2025-09-07T23:51:42.000Z"
        ],
        [
         165,
         "Phyllis",
         "Underwood",
         "caseygraham@saunders.com",
         "+1-680-038-5971x325",
         "South Trevor",
         "2023-01-16",
         "2025-09-04T18:18:16.000Z"
        ],
        [
         166,
         "Sandra",
         "Erickson",
         "woodrichard@yahoo.com",
         "102-992-6402",
         "Clayhaven",
         "2024-04-20",
         "2025-09-04T08:50:04.000Z"
        ],
        [
         167,
         "Jeffrey",
         "Lee",
         "xbenson@oconnor.com",
         "744.244.5980",
         "East Benjamin",
         "2021-04-16",
         "2025-09-01T07:32:52.000Z"
        ],
        [
         168,
         "Russell",
         "Pennington",
         "kathleenromero@hotmail.com",
         "8969053692",
         "Greenton",
         "2021-07-31",
         "2025-08-21T20:02:42.000Z"
        ],
        [
         169,
         "Amanda",
         "Ellis",
         "sheilaholder@yahoo.com",
         "001-326-447-7228x266",
         "North Johnberg",
         "2023-08-27",
         "2025-09-10T22:50:59.000Z"
        ],
        [
         170,
         "Tiffany",
         "Young",
         "timothyreyes@mcdaniel-cuevas.info",
         "+1-252-071-1349x5816",
         "West Ryan",
         "2021-04-18",
         "2025-08-29T03:30:28.000Z"
        ],
        [
         171,
         "Kimberly",
         "Ford",
         "joelaustin@yahoo.com",
         "001-965-295-5991x4649",
         "New Ralph",
         "2020-10-15",
         "2025-09-01T02:03:16.000Z"
        ],
        [
         172,
         "Stephanie",
         "Ryan",
         "sallyobrien@gmail.com",
         "(790)431-5648x33601",
         "Parkerchester",
         "2025-01-31",
         "2025-09-14T12:11:34.000Z"
        ],
        [
         173,
         "James",
         "Castillo",
         "robert01@yahoo.com",
         "+1-890-885-5781x841",
         "Dominguezburgh",
         "2021-04-24",
         "2025-09-06T02:53:58.000Z"
        ],
        [
         174,
         "Brandon",
         "Clark",
         "mossbreanna@gmail.com",
         "(263)701-2935x823",
         "Port Maria",
         "2025-01-13",
         "2025-08-23T16:39:05.000Z"
        ],
        [
         175,
         "Samantha",
         "Hodge",
         "joseph00@yahoo.com",
         "001-715-206-0866x083",
         "Port Erikashire",
         "2022-03-05",
         "2025-08-22T21:39:06.000Z"
        ],
        [
         176,
         "Felicia",
         "Holland",
         "michael29@wiggins-blake.com",
         "+1-753-932-8678x78477",
         "North Scottshire",
         "2025-02-20",
         "2025-09-01T17:49:22.000Z"
        ],
        [
         177,
         "Ryan",
         "Andrews",
         "margaretperez@evans-graham.com",
         "149-958-7488x5953",
         "Craigmouth",
         "2024-03-16",
         "2025-08-27T07:17:45.000Z"
        ],
        [
         178,
         "Peter",
         "Lopez",
         "melissa38@murphy.com",
         "(150)763-2444x6719",
         "Johnsonstad",
         "2025-08-10",
         "2025-09-02T02:17:02.000Z"
        ],
        [
         179,
         "Meghan",
         "Thomas",
         "david61@hernandez-lane.org",
         "+1-499-095-5601",
         "Kennethstad",
         "2021-07-28",
         "2025-08-29T05:17:46.000Z"
        ],
        [
         180,
         "Leah",
         "Baker",
         "proberson@hotmail.com",
         "+1-302-646-3846",
         "Kennethfort",
         "2022-11-26",
         "2025-09-06T07:06:24.000Z"
        ],
        [
         181,
         "Sarah",
         "Gross",
         "russelljennifer@hotmail.com",
         "457.655.9202x99411",
         "East Rodneyview",
         "2020-10-05",
         "2025-09-06T03:41:48.000Z"
        ],
        [
         182,
         "Sophia",
         "Watson",
         "hernandezamy@adkins.com",
         "6714929006",
         "West Jasonmouth",
         "2025-04-17",
         "2025-08-23T23:27:11.000Z"
        ],
        [
         183,
         "Rose",
         "Potter",
         "carrollanthony@martinez.biz",
         "687-562-3693",
         "Murphyton",
         "2021-05-15",
         "2025-09-01T13:57:07.000Z"
        ],
        [
         184,
         "Rebecca",
         "Carr",
         "peteryang@walker-burton.com",
         "(832)916-1101",
         "Lake Kim",
         "2023-04-07",
         "2025-09-10T09:16:01.000Z"
        ],
        [
         185,
         "David",
         "Carroll",
         "hyoung@yahoo.com",
         "(948)728-5315",
         "Amberland",
         "2024-05-05",
         "2025-08-28T14:03:15.000Z"
        ],
        [
         186,
         "Mary",
         "Brown",
         "cindyvalenzuela@bass.com",
         "675-881-9586x244",
         "North Jason",
         "2024-09-26",
         "2025-09-10T04:57:55.000Z"
        ],
        [
         187,
         "Carrie",
         "Parks",
         "sandrarichard@scott.com",
         "+1-553-134-5608",
         "Carrieside",
         "2021-02-23",
         "2025-08-24T07:05:13.000Z"
        ],
        [
         188,
         "Johnathan",
         "Leonard",
         "rhodespamela@hotmail.com",
         "(586)539-0647",
         "Frostview",
         "2025-02-05",
         "2025-08-29T02:41:45.000Z"
        ],
        [
         189,
         "Jasmine",
         "Miller",
         "timothythompson@moore.org",
         "2441015703",
         "Jonesstad",
         "2022-04-16",
         "2025-09-02T03:43:10.000Z"
        ],
        [
         190,
         "Jonathan",
         "Tran",
         "sarahthompson@robertson.com",
         "944.549.7152x505",
         "Port Joseph",
         "2022-04-14",
         "2025-09-08T20:29:04.000Z"
        ],
        [
         191,
         "Christopher",
         "Kim",
         "tyler10@parsons-gomez.com",
         "757-014-4199x75554",
         "Port Michelle",
         "2022-10-31",
         "2025-09-17T10:19:44.000Z"
        ],
        [
         192,
         "Shannon",
         "Gallagher",
         "roachrenee@hotmail.com",
         "+1-768-447-8757x233",
         "Alishaland",
         "2024-04-16",
         "2025-08-27T15:21:01.000Z"
        ],
        [
         193,
         "Carl",
         "Wilson",
         "curtismitchell@gonzalez.com",
         "001-633-177-7082",
         "Cameronmouth",
         "2024-10-01",
         "2025-08-22T19:40:58.000Z"
        ],
        [
         194,
         "Maria",
         "Ramsey",
         "katherineanderson@gmail.com",
         "001-921-539-2623x791",
         "Lake Brandiport",
         "2023-09-12",
         "2025-09-07T17:00:04.000Z"
        ],
        [
         195,
         "Francis",
         "Baker",
         "bryan64@harris.net",
         "536-874-7617",
         "New Chloeside",
         "2024-07-25",
         "2025-09-07T03:16:53.000Z"
        ],
        [
         196,
         "Emily",
         "Cabrera",
         "ubrown@gmail.com",
         "(352)635-6477x788",
         "Sweeneytown",
         "2021-03-13",
         "2025-09-09T10:12:38.000Z"
        ],
        [
         197,
         "Richard",
         "Anderson",
         "aprilkim@gmail.com",
         "722-662-3843x221",
         "Heatherburgh",
         "2024-03-07",
         "2025-09-18T08:14:23.000Z"
        ],
        [
         198,
         "Bradley",
         "Dunn",
         "davidperez@hotmail.com",
         "+1-426-033-6141",
         "Aaronside",
         "2023-02-18",
         "2025-09-12T02:27:11.000Z"
        ],
        [
         199,
         "Susan",
         "Brown",
         "masonnicholas@yahoo.com",
         "573-864-2777",
         "Saraview",
         "2021-04-18",
         "2025-09-05T17:40:31.000Z"
        ],
        [
         200,
         "Jaclyn",
         "Smith",
         "allisonbarnes@yahoo.com",
         "006-073-9277x533",
         "Rebeccamouth",
         "2024-05-04",
         "2025-08-28T13:14:58.000Z"
        ]
       ],
       "datasetInfos": [],
       "dbfsResultPath": null,
       "isJsonSchema": true,
       "metadata": {},
       "overflow": false,
       "plotOptions": {
        "customPlotOptions": {},
        "displayType": "table",
        "pivotAggregation": null,
        "pivotColumns": null,
        "xColumns": null,
        "yColumns": null
       },
       "removedWidgets": [],
       "schema": [
        {
         "metadata": "{}",
         "name": "customer_id",
         "type": "\"integer\""
        },
        {
         "metadata": "{}",
         "name": "first_name",
         "type": "\"string\""
        },
        {
         "metadata": "{}",
         "name": "last_name",
         "type": "\"string\""
        },
        {
         "metadata": "{}",
         "name": "email",
         "type": "\"string\""
        },
        {
         "metadata": "{}",
         "name": "phone_number",
         "type": "\"string\""
        },
        {
         "metadata": "{}",
         "name": "city",
         "type": "\"string\""
        },
        {
         "metadata": "{\"__detected_date_formats\": \"yyyy-M-d\"}",
         "name": "signup_date",
         "type": "\"date\""
        },
        {
         "metadata": "{}",
         "name": "last_updated_timestamp",
         "type": "\"timestamp\""
        }
       ],
       "type": "table"
      }
     },
     "output_type": "display_data"
    }
   ],
   "source": [
    "display(df)"
   ]
  },
  {
   "cell_type": "code",
   "execution_count": 0,
   "metadata": {
    "application/vnd.databricks.v1+cell": {
     "cellMetadata": {
      "byteLimit": 2048000,
      "rowLimit": 10000
     },
     "inputWidgets": {},
     "nuid": "da297ef5-7127-4248-8bd0-466d08fafc28",
     "showTitle": false,
     "tableResultSettingsMap": {},
     "title": ""
    }
   },
   "outputs": [
    {
     "output_type": "execute_result",
     "data": {
      "text/plain": [
       "StructType([StructField('customer_id', IntegerType(), True), StructField('first_name', StringType(), True), StructField('last_name', StringType(), True), StructField('email', StringType(), True), StructField('phone_number', StringType(), True), StructField('city', StringType(), True), StructField('signup_date', DateType(), True), StructField('last_updated_timestamp', TimestampType(), True)])"
      ]
     },
     "execution_count": 24,
     "metadata": {},
     "output_type": "execute_result"
    }
   ],
   "source": [
    "df.schema"
   ]
  },
  {
   "cell_type": "code",
   "execution_count": 0,
   "metadata": {
    "application/vnd.databricks.v1+cell": {
     "cellMetadata": {
      "byteLimit": 2048000,
      "rowLimit": 10000
     },
     "inputWidgets": {},
     "nuid": "df38a44c-a0ac-43a7-9355-47fd1a3f2815",
     "showTitle": false,
     "tableResultSettingsMap": {},
     "title": ""
    }
   },
   "outputs": [
    {
     "output_type": "execute_result",
     "data": {
      "text/plain": [
       "StructType([StructField('customer_id', IntegerType(), True), StructField('first_name', StringType(), True), StructField('last_name', StringType(), True), StructField('email', StringType(), True), StructField('phone_number', StringType(), True), StructField('city', StringType(), True), StructField('signup_date', DateType(), True), StructField('last_updated_timestamp', TimestampType(), True)])"
      ]
     },
     "execution_count": 27,
     "metadata": {},
     "output_type": "execute_result"
    }
   ],
   "source": [
    "schema_customers = df.schema\n",
    "schema_customers"
   ]
  },
  {
   "cell_type": "markdown",
   "metadata": {
    "application/vnd.databricks.v1+cell": {
     "cellMetadata": {},
     "inputWidgets": {},
     "nuid": "85e97c39-8720-4c9f-8864-cffcacb70e0f",
     "showTitle": false,
     "tableResultSettingsMap": {},
     "title": ""
    }
   },
   "source": [
    "### **Spark Streaming**"
   ]
  },
  {
   "cell_type": "code",
   "execution_count": 0,
   "metadata": {
    "application/vnd.databricks.v1+cell": {
     "cellMetadata": {
      "byteLimit": 2048000,
      "rowLimit": 10000
     },
     "inputWidgets": {},
     "nuid": "f6f0929c-f1f9-462c-9fdc-c059dccab73b",
     "showTitle": false,
     "tableResultSettingsMap": {},
     "title": ""
    }
   },
   "outputs": [],
   "source": [
    "entities = ['customers','trips','locations','payments','vehicles','drivers']"
   ]
  },
  {
   "cell_type": "code",
   "execution_count": 0,
   "metadata": {
    "application/vnd.databricks.v1+cell": {
     "cellMetadata": {
      "byteLimit": 2048000,
      "rowLimit": 10000
     },
     "inputWidgets": {},
     "nuid": "214a58b8-13de-44aa-a43e-831ff57c8c2a",
     "showTitle": false,
     "tableResultSettingsMap": {},
     "title": ""
    }
   },
   "outputs": [],
   "source": [
    "for entity in entities:\n",
    "   \n",
    "  df_batch = spark.read.format(\"csv\")\\\n",
    "    .option(\"header\",True)\\\n",
    "        .option(\"inferSchema\",True)\\\n",
    "            .load(f\"/Volumes/pysparkdbt/source/source_data/{entity}/\")\n",
    "\n",
    "  schema_entity = df_batch.schema\n",
    "\n",
    "  df = spark.readStream.format(\"csv\")\\\n",
    "  .option(\"header\",True)\\\n",
    "    .schema(schema_customers)\\\n",
    "      .load(f\"/Volumes/pysparkdbt/source/source_data/{entity}/\")\n",
    "\n",
    "  df.writeStream.format(\"delta\")\\\n",
    "  .outputMode(\"append\")\\\n",
    "    .option(\"checkpointLocation\",f\"/Volumes/pysparkdbt/source/source_data/{entity}/\")\\\n",
    "      .trigger(once=True)\\\n",
    "        .toTable(f\"pysparkdbt.bronze.{entity}\")\n",
    "\n"
   ]
  },
  {
   "cell_type": "code",
   "execution_count": 0,
   "metadata": {
    "application/vnd.databricks.v1+cell": {
     "cellMetadata": {},
     "inputWidgets": {},
     "nuid": "441b492d-1aa0-41ba-af91-ec1f060dac86",
     "showTitle": false,
     "tableResultSettingsMap": {},
     "title": ""
    }
   },
   "outputs": [],
   "source": []
  }
 ],
 "metadata": {
  "application/vnd.databricks.v1+notebook": {
   "computePreferences": {
    "hardware": {
     "accelerator": null,
     "gpuPoolId": null,
     "memory": null
    }
   },
   "dashboards": [],
   "environmentMetadata": {
    "base_environment": "",
    "environment_version": "3"
   },
   "inputWidgetPreferences": null,
   "language": "python",
   "notebookMetadata": {
    "pythonIndentUnit": 4
   },
   "notebookName": "bronze_ingestion",
   "widgets": {}
  },
  "language_info": {
   "name": "python"
  }
 },
 "nbformat": 4,
 "nbformat_minor": 0
}